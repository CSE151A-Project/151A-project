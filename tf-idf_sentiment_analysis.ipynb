{
 "cells": [
  {
   "cell_type": "code",
   "execution_count": 5,
   "metadata": {},
   "outputs": [],
   "source": [
    "import numpy as np\n",
    "import pandas as pd\n",
    "from sklearn.feature_extraction.text import TfidfVectorizer\n",
    "from sklearn.linear_model import Ridge\n",
    "from sklearn.metrics import mean_squared_error\n"
   ]
  },
  {
   "cell_type": "code",
   "execution_count": 6,
   "metadata": {},
   "outputs": [],
   "source": [
    "df = pd.read_csv('airbnb_dataset/data.csv')\n",
    "\n",
    "vectorizer = TfidfVectorizer(max_features=3000, stop_words='english')\n",
    "X = vectorizer.fit_transform(df['description']).toarray()"
   ]
  },
  {
   "cell_type": "code",
   "execution_count": 7,
   "metadata": {},
   "outputs": [],
   "source": [
    "y = np.array(df['log_price'])\n",
    "\n",
    "model = Ridge(alpha=1.0)\n",
    "model.fit(X, y)\n",
    "theta = model.coef_\n",
    "\n",
    "predictions = model.predict(X)\n",
    "mse = mean_squared_error(y, predictions)"
   ]
  },
  {
   "cell_type": "code",
   "execution_count": 8,
   "metadata": {},
   "outputs": [
    {
     "name": "stdout",
     "output_type": "stream",
     "text": [
      "MSE: 0.25017994937456023\n",
      "Top positive words: [('inauguration', 3.6514334188375157), ('shoots', 1.8897555181091374), ('bedrooms', 1.5971022543432194), ('filming', 1.436805655417775), ('bowl', 1.4295557202454081), ('viking', 1.4119257924208357), ('villa', 1.4117952287741302), ('corporate', 1.283327807016469), ('estate', 1.254694641454746), ('groups', 1.2525537201719439)]\n",
      "Top negative words: [('gabriel', -0.8936266968958946), ('crash', -0.9221533146871831), ('walmart', -0.9352318799834811), ('roommates', -0.968153584455593), ('budget', -0.9957940301125133), ('students', -1.0363411037170591), ('hostel', -1.0646183899320234), ('shared', -1.2151414053262464), ('solo', -1.2208406454425849), ('room', -1.3253673945286715)]\n"
     ]
    }
   ],
   "source": [
    "feature_names = vectorizer.get_feature_names_out()\n",
    "word_coefficients = list(zip(feature_names, theta))\n",
    "word_coefficients.sort(key=lambda x: x[1], reverse=True)  # Sort by coefficient value\n",
    "\n",
    "# Print MSE and some of the top coefficients\n",
    "print(f\"MSE: {mse}\")\n",
    "print(\"Top positive words:\", word_coefficients[:10])\n",
    "print(\"Top negative words:\", word_coefficients[-10:])"
   ]
  },
  {
   "cell_type": "code",
   "execution_count": 11,
   "metadata": {},
   "outputs": [],
   "source": [
    "with open('airbnb_dataset/tfidf_dict.txt', 'w') as f:\n",
    "    for word, score in word_coefficients:\n",
    "        f.write(f\"{word} {score}\\n\")"
   ]
  }
 ],
 "metadata": {
  "kernelspec": {
   "display_name": "Python 3",
   "language": "python",
   "name": "python3"
  },
  "language_info": {
   "codemirror_mode": {
    "name": "ipython",
    "version": 3
   },
   "file_extension": ".py",
   "mimetype": "text/x-python",
   "name": "python",
   "nbconvert_exporter": "python",
   "pygments_lexer": "ipython3",
   "version": "3.9.6"
  }
 },
 "nbformat": 4,
 "nbformat_minor": 2
}

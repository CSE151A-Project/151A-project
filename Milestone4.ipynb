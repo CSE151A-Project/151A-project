{
  "cells": [
    {
      "cell_type": "code",
      "execution_count": 1,
      "metadata": {
        "id": "yzrVg_B6k0fL"
      },
      "outputs": [],
      "source": [
        "import pandas as pd\n",
        "import numpy as np\n",
        "import matplotlib.pyplot as plt\n",
        "from sklearn.model_selection import train_test_split\n",
        "import keras_tuner\n",
        "import keras\n",
        "import tensorflow as tf"
      ]
    },
    {
      "cell_type": "code",
      "execution_count": 2,
      "metadata": {
        "colab": {
          "base_uri": "https://localhost:8080/",
          "height": 244
        },
        "id": "EHiJc-N-k0fM",
        "outputId": "1866cc82-6326-4648-e9e3-d68a953e6718"
      },
      "outputs": [
        {
          "data": {
            "text/html": [
              "<div>\n",
              "<style scoped>\n",
              "    .dataframe tbody tr th:only-of-type {\n",
              "        vertical-align: middle;\n",
              "    }\n",
              "\n",
              "    .dataframe tbody tr th {\n",
              "        vertical-align: top;\n",
              "    }\n",
              "\n",
              "    .dataframe thead th {\n",
              "        text-align: right;\n",
              "    }\n",
              "</style>\n",
              "<table border=\"1\" class=\"dataframe\">\n",
              "  <thead>\n",
              "    <tr style=\"text-align: right;\">\n",
              "      <th></th>\n",
              "      <th>log_price</th>\n",
              "      <th>accommodates</th>\n",
              "      <th>bathrooms</th>\n",
              "      <th>host_response_rate</th>\n",
              "      <th>bedrooms</th>\n",
              "      <th>beds</th>\n",
              "      <th>cleaning_fee_True</th>\n",
              "      <th>host_has_profile_pic_t</th>\n",
              "      <th>host_identity_verified_t</th>\n",
              "      <th>instant_bookable_t</th>\n",
              "      <th>property_type_encoded</th>\n",
              "      <th>room_type_encoded</th>\n",
              "      <th>bed_type_encoded</th>\n",
              "      <th>cancellation_policy_encoded</th>\n",
              "      <th>city_encoded</th>\n",
              "      <th>des_sentiment_analysis</th>\n",
              "      <th>name_sentiment_analysis</th>\n",
              "    </tr>\n",
              "  </thead>\n",
              "  <tbody>\n",
              "    <tr>\n",
              "      <th>0</th>\n",
              "      <td>5.010635</td>\n",
              "      <td>-0.072621</td>\n",
              "      <td>-0.404046</td>\n",
              "      <td>0.296013</td>\n",
              "      <td>-0.312048</td>\n",
              "      <td>-0.566461</td>\n",
              "      <td>True</td>\n",
              "      <td>True</td>\n",
              "      <td>True</td>\n",
              "      <td>False</td>\n",
              "      <td>-0.221989</td>\n",
              "      <td>0.879947</td>\n",
              "      <td>0.206922</td>\n",
              "      <td>1.031946</td>\n",
              "      <td>-0.417068</td>\n",
              "      <td>0.216242</td>\n",
              "      <td>-0.435248</td>\n",
              "    </tr>\n",
              "    <tr>\n",
              "      <th>1</th>\n",
              "      <td>5.129899</td>\n",
              "      <td>1.783653</td>\n",
              "      <td>-0.404046</td>\n",
              "      <td>0.296013</td>\n",
              "      <td>2.034955</td>\n",
              "      <td>1.027816</td>\n",
              "      <td>True</td>\n",
              "      <td>True</td>\n",
              "      <td>False</td>\n",
              "      <td>True</td>\n",
              "      <td>-0.248121</td>\n",
              "      <td>0.883912</td>\n",
              "      <td>0.178912</td>\n",
              "      <td>1.034251</td>\n",
              "      <td>-0.425829</td>\n",
              "      <td>0.837002</td>\n",
              "      <td>-1.788095</td>\n",
              "    </tr>\n",
              "    <tr>\n",
              "      <th>2</th>\n",
              "      <td>4.976734</td>\n",
              "      <td>0.855516</td>\n",
              "      <td>-0.404046</td>\n",
              "      <td>0.296013</td>\n",
              "      <td>-0.312048</td>\n",
              "      <td>1.027816</td>\n",
              "      <td>True</td>\n",
              "      <td>True</td>\n",
              "      <td>True</td>\n",
              "      <td>True</td>\n",
              "      <td>-0.252342</td>\n",
              "      <td>0.869698</td>\n",
              "      <td>0.126796</td>\n",
              "      <td>-0.607644</td>\n",
              "      <td>-0.445747</td>\n",
              "      <td>0.808508</td>\n",
              "      <td>-0.133695</td>\n",
              "    </tr>\n",
              "    <tr>\n",
              "      <th>3</th>\n",
              "      <td>6.620073</td>\n",
              "      <td>0.391448</td>\n",
              "      <td>-0.404046</td>\n",
              "      <td>0.296013</td>\n",
              "      <td>0.861454</td>\n",
              "      <td>0.230678</td>\n",
              "      <td>True</td>\n",
              "      <td>True</td>\n",
              "      <td>True</td>\n",
              "      <td>False</td>\n",
              "      <td>0.187295</td>\n",
              "      <td>0.883912</td>\n",
              "      <td>0.178912</td>\n",
              "      <td>-0.976832</td>\n",
              "      <td>2.696289</td>\n",
              "      <td>0.213627</td>\n",
              "      <td>-0.926212</td>\n",
              "    </tr>\n",
              "    <tr>\n",
              "      <th>4</th>\n",
              "      <td>4.744932</td>\n",
              "      <td>-0.536689</td>\n",
              "      <td>-0.404046</td>\n",
              "      <td>0.296013</td>\n",
              "      <td>-1.485549</td>\n",
              "      <td>-0.566461</td>\n",
              "      <td>True</td>\n",
              "      <td>True</td>\n",
              "      <td>True</td>\n",
              "      <td>True</td>\n",
              "      <td>-0.242856</td>\n",
              "      <td>0.875005</td>\n",
              "      <td>0.145414</td>\n",
              "      <td>-0.634193</td>\n",
              "      <td>1.380088</td>\n",
              "      <td>-0.101872</td>\n",
              "      <td>-0.095776</td>\n",
              "    </tr>\n",
              "  </tbody>\n",
              "</table>\n",
              "</div>"
            ],
            "text/plain": [
              "   log_price  accommodates  bathrooms  host_response_rate  bedrooms      beds  \\\n",
              "0   5.010635     -0.072621  -0.404046            0.296013 -0.312048 -0.566461   \n",
              "1   5.129899      1.783653  -0.404046            0.296013  2.034955  1.027816   \n",
              "2   4.976734      0.855516  -0.404046            0.296013 -0.312048  1.027816   \n",
              "3   6.620073      0.391448  -0.404046            0.296013  0.861454  0.230678   \n",
              "4   4.744932     -0.536689  -0.404046            0.296013 -1.485549 -0.566461   \n",
              "\n",
              "   cleaning_fee_True  host_has_profile_pic_t  host_identity_verified_t  \\\n",
              "0               True                    True                      True   \n",
              "1               True                    True                     False   \n",
              "2               True                    True                      True   \n",
              "3               True                    True                      True   \n",
              "4               True                    True                      True   \n",
              "\n",
              "   instant_bookable_t  property_type_encoded  room_type_encoded  \\\n",
              "0               False              -0.221989           0.879947   \n",
              "1                True              -0.248121           0.883912   \n",
              "2                True              -0.252342           0.869698   \n",
              "3               False               0.187295           0.883912   \n",
              "4                True              -0.242856           0.875005   \n",
              "\n",
              "   bed_type_encoded  cancellation_policy_encoded  city_encoded  \\\n",
              "0          0.206922                     1.031946     -0.417068   \n",
              "1          0.178912                     1.034251     -0.425829   \n",
              "2          0.126796                    -0.607644     -0.445747   \n",
              "3          0.178912                    -0.976832      2.696289   \n",
              "4          0.145414                    -0.634193      1.380088   \n",
              "\n",
              "   des_sentiment_analysis  name_sentiment_analysis  \n",
              "0                0.216242                -0.435248  \n",
              "1                0.837002                -1.788095  \n",
              "2                0.808508                -0.133695  \n",
              "3                0.213627                -0.926212  \n",
              "4               -0.101872                -0.095776  "
            ]
          },
          "execution_count": 2,
          "metadata": {},
          "output_type": "execute_result"
        }
      ],
      "source": [
        "csv_file_path = './airbnb_dataset/milestone3.csv'\n",
        "df = pd.read_csv(csv_file_path)\n",
        "pd.set_option('display.max_columns', None)\n",
        "df.head()"
      ]
    },
    {
      "cell_type": "code",
      "execution_count": 3,
      "metadata": {
        "id": "RRfp1Fy8k0fM"
      },
      "outputs": [],
      "source": [
        "features = [col for col in df.columns if col != 'log_price' and df[col].dtype in ['int64', 'float64']]\n",
        "features.remove('name_sentiment_analysis')\n",
        "\n",
        "bool_features = [col for col in df.columns if df[col].dtype == 'bool']\n",
        "df[bool_features] = df[bool_features].astype(int)\n",
        "X = df.drop(columns=['log_price'], axis=1)\n",
        "y = df['log_price']"
      ]
    },
    {
      "cell_type": "code",
      "execution_count": 4,
      "metadata": {
        "id": "ign6_jrik0fN"
      },
      "outputs": [],
      "source": [
        "X_train_full, X_test, y_train_full, y_test = train_test_split(X, y, test_size=0.2, random_state=42)\n",
        "X_train, X_val, y_train, y_val = train_test_split(X_train_full, y_train_full, test_size=0.25, random_state=42)"
      ]
    },
    {
      "cell_type": "code",
      "execution_count": 5,
      "metadata": {},
      "outputs": [
        {
          "data": {
            "text/html": [
              "<div>\n",
              "<style scoped>\n",
              "    .dataframe tbody tr th:only-of-type {\n",
              "        vertical-align: middle;\n",
              "    }\n",
              "\n",
              "    .dataframe tbody tr th {\n",
              "        vertical-align: top;\n",
              "    }\n",
              "\n",
              "    .dataframe thead th {\n",
              "        text-align: right;\n",
              "    }\n",
              "</style>\n",
              "<table border=\"1\" class=\"dataframe\">\n",
              "  <thead>\n",
              "    <tr style=\"text-align: right;\">\n",
              "      <th></th>\n",
              "      <th>accommodates</th>\n",
              "      <th>bathrooms</th>\n",
              "      <th>host_response_rate</th>\n",
              "      <th>bedrooms</th>\n",
              "      <th>beds</th>\n",
              "      <th>cleaning_fee_True</th>\n",
              "      <th>host_has_profile_pic_t</th>\n",
              "      <th>host_identity_verified_t</th>\n",
              "      <th>instant_bookable_t</th>\n",
              "      <th>property_type_encoded</th>\n",
              "      <th>room_type_encoded</th>\n",
              "      <th>bed_type_encoded</th>\n",
              "      <th>cancellation_policy_encoded</th>\n",
              "      <th>city_encoded</th>\n",
              "      <th>des_sentiment_analysis</th>\n",
              "      <th>name_sentiment_analysis</th>\n",
              "    </tr>\n",
              "  </thead>\n",
              "  <tbody>\n",
              "    <tr>\n",
              "      <th>42191</th>\n",
              "      <td>0.391448</td>\n",
              "      <td>-0.404046</td>\n",
              "      <td>0.296013</td>\n",
              "      <td>-0.312048</td>\n",
              "      <td>-0.566461</td>\n",
              "      <td>1</td>\n",
              "      <td>1</td>\n",
              "      <td>1</td>\n",
              "      <td>0</td>\n",
              "      <td>-0.248121</td>\n",
              "      <td>0.883912</td>\n",
              "      <td>0.178912</td>\n",
              "      <td>1.034251</td>\n",
              "      <td>-0.434422</td>\n",
              "      <td>-0.724731</td>\n",
              "      <td>2.953063</td>\n",
              "    </tr>\n",
              "    <tr>\n",
              "      <th>37702</th>\n",
              "      <td>-0.536689</td>\n",
              "      <td>-0.404046</td>\n",
              "      <td>-0.398157</td>\n",
              "      <td>-0.312048</td>\n",
              "      <td>-0.566461</td>\n",
              "      <td>1</td>\n",
              "      <td>1</td>\n",
              "      <td>0</td>\n",
              "      <td>0</td>\n",
              "      <td>-0.221989</td>\n",
              "      <td>-1.032336</td>\n",
              "      <td>0.206922</td>\n",
              "      <td>1.031946</td>\n",
              "      <td>-0.417068</td>\n",
              "      <td>-0.111844</td>\n",
              "      <td>4.544577</td>\n",
              "    </tr>\n",
              "    <tr>\n",
              "      <th>32194</th>\n",
              "      <td>1.319585</td>\n",
              "      <td>-0.404046</td>\n",
              "      <td>0.296013</td>\n",
              "      <td>0.861454</td>\n",
              "      <td>1.027816</td>\n",
              "      <td>1</td>\n",
              "      <td>1</td>\n",
              "      <td>0</td>\n",
              "      <td>0</td>\n",
              "      <td>-0.221989</td>\n",
              "      <td>0.879947</td>\n",
              "      <td>0.206922</td>\n",
              "      <td>1.031946</td>\n",
              "      <td>-0.396550</td>\n",
              "      <td>1.378005</td>\n",
              "      <td>6.106757</td>\n",
              "    </tr>\n",
              "    <tr>\n",
              "      <th>946</th>\n",
              "      <td>-0.072621</td>\n",
              "      <td>-0.404046</td>\n",
              "      <td>0.157179</td>\n",
              "      <td>-0.312048</td>\n",
              "      <td>-0.566461</td>\n",
              "      <td>1</td>\n",
              "      <td>1</td>\n",
              "      <td>1</td>\n",
              "      <td>0</td>\n",
              "      <td>-0.248121</td>\n",
              "      <td>0.883912</td>\n",
              "      <td>0.178912</td>\n",
              "      <td>1.034251</td>\n",
              "      <td>1.479132</td>\n",
              "      <td>1.081320</td>\n",
              "      <td>0.714817</td>\n",
              "    </tr>\n",
              "    <tr>\n",
              "      <th>73606</th>\n",
              "      <td>-0.072621</td>\n",
              "      <td>-0.404046</td>\n",
              "      <td>0.296013</td>\n",
              "      <td>-0.312048</td>\n",
              "      <td>0.230678</td>\n",
              "      <td>1</td>\n",
              "      <td>1</td>\n",
              "      <td>1</td>\n",
              "      <td>0</td>\n",
              "      <td>-0.242856</td>\n",
              "      <td>0.875005</td>\n",
              "      <td>0.145414</td>\n",
              "      <td>1.033033</td>\n",
              "      <td>-0.450520</td>\n",
              "      <td>-0.248251</td>\n",
              "      <td>-0.897739</td>\n",
              "    </tr>\n",
              "  </tbody>\n",
              "</table>\n",
              "</div>"
            ],
            "text/plain": [
              "       accommodates  bathrooms  host_response_rate  bedrooms      beds  \\\n",
              "42191      0.391448  -0.404046            0.296013 -0.312048 -0.566461   \n",
              "37702     -0.536689  -0.404046           -0.398157 -0.312048 -0.566461   \n",
              "32194      1.319585  -0.404046            0.296013  0.861454  1.027816   \n",
              "946       -0.072621  -0.404046            0.157179 -0.312048 -0.566461   \n",
              "73606     -0.072621  -0.404046            0.296013 -0.312048  0.230678   \n",
              "\n",
              "       cleaning_fee_True  host_has_profile_pic_t  host_identity_verified_t  \\\n",
              "42191                  1                       1                         1   \n",
              "37702                  1                       1                         0   \n",
              "32194                  1                       1                         0   \n",
              "946                    1                       1                         1   \n",
              "73606                  1                       1                         1   \n",
              "\n",
              "       instant_bookable_t  property_type_encoded  room_type_encoded  \\\n",
              "42191                   0              -0.248121           0.883912   \n",
              "37702                   0              -0.221989          -1.032336   \n",
              "32194                   0              -0.221989           0.879947   \n",
              "946                     0              -0.248121           0.883912   \n",
              "73606                   0              -0.242856           0.875005   \n",
              "\n",
              "       bed_type_encoded  cancellation_policy_encoded  city_encoded  \\\n",
              "42191          0.178912                     1.034251     -0.434422   \n",
              "37702          0.206922                     1.031946     -0.417068   \n",
              "32194          0.206922                     1.031946     -0.396550   \n",
              "946            0.178912                     1.034251      1.479132   \n",
              "73606          0.145414                     1.033033     -0.450520   \n",
              "\n",
              "       des_sentiment_analysis  name_sentiment_analysis  \n",
              "42191               -0.724731                 2.953063  \n",
              "37702               -0.111844                 4.544577  \n",
              "32194                1.378005                 6.106757  \n",
              "946                  1.081320                 0.714817  \n",
              "73606               -0.248251                -0.897739  "
            ]
          },
          "execution_count": 5,
          "metadata": {},
          "output_type": "execute_result"
        }
      ],
      "source": [
        "X_train[:5]"
      ]
    },
    {
      "cell_type": "markdown",
      "metadata": {
        "id": "8HlRQxrok0fN"
      },
      "source": [
        "### Train with NN"
      ]
    },
    {
      "cell_type": "code",
      "execution_count": 6,
      "metadata": {
        "id": "woKUzwKlk0fN"
      },
      "outputs": [],
      "source": [
        "# Uncomment below if tensorflow is not installed already\n",
        "#%pip install tensorflow\n",
        "from sklearn.preprocessing import StandardScaler\n",
        "from tensorflow.keras.models import Sequential\n",
        "from tensorflow.keras.layers import Dense,BatchNormalization,Dropout"
      ]
    },
    {
      "cell_type": "code",
      "execution_count": 19,
      "metadata": {
        "id": "sbtm6rYzk0fO"
      },
      "outputs": [],
      "source": [
        "# Build Neural Network\n",
        "nn_model = Sequential([\n",
        "    Dense(128, activation='relu',input_dim=X_train.shape[1]),\n",
        "    Dense(64, activation='relu'),\n",
        "    Dense(32, activation='relu'),\n",
        "    Dense(16, activation='relu'),\n",
        "    Dense(1)\n",
        "])\n",
        "\n",
        "nn_model.compile(optimizer='adam', loss='mean_squared_error')"
      ]
    },
    {
      "cell_type": "code",
      "execution_count": 20,
      "metadata": {
        "colab": {
          "base_uri": "https://localhost:8080/"
        },
        "id": "iT-i2N6Dk0fO",
        "outputId": "2db7435e-9c6b-4eeb-9475-847148cc82a2"
      },
      "outputs": [
        {
          "name": "stdout",
          "output_type": "stream",
          "text": [
            "Epoch 1/20\n",
            "1386/1386 [==============================] - 1s 815us/step - loss: 0.4644 - val_loss: 0.2294\n",
            "Epoch 2/20\n",
            "1386/1386 [==============================] - 1s 779us/step - loss: 0.2157 - val_loss: 0.2246\n",
            "Epoch 3/20\n",
            "1386/1386 [==============================] - 1s 805us/step - loss: 0.2063 - val_loss: 0.2069\n",
            "Epoch 4/20\n",
            "1386/1386 [==============================] - 1s 776us/step - loss: 0.2000 - val_loss: 0.2373\n",
            "Epoch 5/20\n",
            "1386/1386 [==============================] - 1s 778us/step - loss: 0.1966 - val_loss: 0.1917\n",
            "Epoch 6/20\n",
            "1386/1386 [==============================] - 1s 777us/step - loss: 0.1935 - val_loss: 0.1887\n",
            "Epoch 7/20\n",
            "1386/1386 [==============================] - 1s 802us/step - loss: 0.1908 - val_loss: 0.1983\n",
            "Epoch 8/20\n",
            "1386/1386 [==============================] - 1s 778us/step - loss: 0.1900 - val_loss: 0.1872\n",
            "Epoch 9/20\n",
            "1386/1386 [==============================] - 1s 779us/step - loss: 0.1895 - val_loss: 0.1978\n",
            "Epoch 10/20\n",
            "1386/1386 [==============================] - 1s 775us/step - loss: 0.1889 - val_loss: 0.1950\n",
            "Epoch 11/20\n",
            "1386/1386 [==============================] - 1s 791us/step - loss: 0.1863 - val_loss: 0.1862\n",
            "Epoch 12/20\n",
            "1386/1386 [==============================] - 1s 795us/step - loss: 0.1849 - val_loss: 0.1860\n",
            "Epoch 13/20\n",
            "1386/1386 [==============================] - 1s 793us/step - loss: 0.1841 - val_loss: 0.1865\n",
            "Epoch 14/20\n",
            "1386/1386 [==============================] - 1s 781us/step - loss: 0.1838 - val_loss: 0.1921\n",
            "Epoch 15/20\n",
            "1386/1386 [==============================] - 1s 795us/step - loss: 0.1828 - val_loss: 0.1861\n",
            "Epoch 16/20\n",
            "1386/1386 [==============================] - 1s 782us/step - loss: 0.1816 - val_loss: 0.1918\n",
            "Epoch 17/20\n",
            "1386/1386 [==============================] - 1s 773us/step - loss: 0.1812 - val_loss: 0.1861\n",
            "Epoch 18/20\n",
            "1386/1386 [==============================] - 1s 797us/step - loss: 0.1805 - val_loss: 0.1867\n",
            "Epoch 19/20\n",
            "1386/1386 [==============================] - 1s 772us/step - loss: 0.1792 - val_loss: 0.1878\n",
            "Epoch 20/20\n",
            "1386/1386 [==============================] - 1s 773us/step - loss: 0.1781 - val_loss: 0.1866\n"
          ]
        }
      ],
      "source": [
        "# Train the model\n",
        "history = nn_model.fit(X_train, y_train, epochs=20, batch_size=32, validation_data=(X_val, y_val))"
      ]
    },
    {
      "cell_type": "code",
      "execution_count": 21,
      "metadata": {
        "colab": {
          "base_uri": "https://localhost:8080/"
        },
        "id": "QBgeds4uk0fO",
        "outputId": "069e603f-f3b5-491b-a396-3783a2289d8f"
      },
      "outputs": [
        {
          "name": "stdout",
          "output_type": "stream",
          "text": [
            "463/463 [==============================] - 0s 417us/step - loss: 0.1891\n",
            "Mean Squared Error on Test Set: 0.1891198307275772\n"
          ]
        }
      ],
      "source": [
        "# Evaluate the model\n",
        "mse = nn_model.evaluate(X_test, y_test)\n",
        "print(f\"Mean Squared Error on Test Set: {mse}\")"
      ]
    },
    {
      "cell_type": "markdown",
      "metadata": {
        "id": "Es1iL4jRk0fO"
      },
      "source": [
        "### Hyper Tuning"
      ]
    },
    {
      "cell_type": "code",
      "execution_count": null,
      "metadata": {
        "id": "hEu-Vtpxk0fO"
      },
      "outputs": [],
      "source": [
        "metrics = [keras.metrics.MeanSquaredError(name=\"mean_squared_error\", dtype=None)]\n",
        "def build_hp_model(hp):\n",
        "    model = Sequential()\n",
        "    for i in range(hp.Int('num_layers', 3, 6)):\n",
        "        model.add(Dense(units=hp.Int('units_' + str(i), min_value=32, max_value=256, step=32),\n",
        "                        activation='leaky_relu'))\n",
        "            \n",
        "    model.add(Dense(1))\n",
        "    learning_rate = hp.Float('learning_rate', min_value=1e-4, max_value=1e-2, sampling='LOG')\n",
        "    model.compile(optimizer=keras.optimizers.Adam(learning_rate=learning_rate),\n",
        "                  loss='mean_squared_error',\n",
        "                  metrics=['mean_squared_error'])\n",
        "    return model"
      ]
    },
    {
      "cell_type": "code",
      "execution_count": null,
      "metadata": {
        "id": "Zppg1sxbk0fP"
      },
      "outputs": [],
      "source": [
        "early_stopping = keras.callbacks.EarlyStopping(\n",
        "    monitor='val_loss',\n",
        "    min_delta=0.001,\n",
        "    patience=5,\n",
        "    mode='min',\n",
        "    restore_best_weights=True,\n",
        ")\n",
        "\n",
        "model_checkpoint = keras.callbacks.ModelCheckpoint(\n",
        "    filepath='checkpoints',\n",
        "    monitor='val_loss',\n",
        "    save_best_only=True,\n",
        "    save_weights_only= False,\n",
        "    mode='min'\n",
        ")"
      ]
    },
    {
      "cell_type": "code",
      "execution_count": null,
      "metadata": {
        "id": "ZkGg1wUFk0fP"
      },
      "outputs": [],
      "source": [
        "tuner = keras_tuner.RandomSearch(\n",
        "    hypermodel=build_hp_model,\n",
        "    objective='val_loss',\n",
        "    max_trials=10,\n",
        "    seed=10,\n",
        "    executions_per_trial=3,\n",
        "    directory='tuner_results',\n",
        "    project_name='keras_tuner_demo',\n",
        "    overwrite=True\n",
        ")"
      ]
    },
    {
      "cell_type": "code",
      "execution_count": null,
      "metadata": {
        "colab": {
          "base_uri": "https://localhost:8080/"
        },
        "id": "Vzz-7xCXk0fP",
        "outputId": "143383cc-bf72-4e2f-90e3-03584b0b0bab"
      },
      "outputs": [],
      "source": [
        "# Start searching\n",
        "tuner_search = tuner.search(X_train, y_train, epochs=20, callbacks=[early_stopping, model_checkpoint], validation_data=(X_val, y_val))"
      ]
    },
    {
      "cell_type": "code",
      "execution_count": null,
      "metadata": {
        "colab": {
          "base_uri": "https://localhost:8080/"
        },
        "id": "7uFJlmTak0fP",
        "outputId": "2f310369-a957-420a-f5d7-d9b9b64d6a9c"
      },
      "outputs": [],
      "source": [
        "# View summary of searching\n",
        "# tuner.results_summary()"
      ]
    },
    {
      "cell_type": "code",
      "execution_count": null,
      "metadata": {
        "colab": {
          "base_uri": "https://localhost:8080/"
        },
        "id": "mzo1VEn8k0fP",
        "outputId": "61e53941-7d0d-4f33-afe2-b8eafe6fcafc"
      },
      "outputs": [],
      "source": [
        "# View best hyperparameters\n",
        "best_hyperparameters = tuner.get_best_hyperparameters(num_trials=1)[0]\n",
        "print(\"Best hyperparameters found were: \", best_hyperparameters.values)"
      ]
    },
    {
      "cell_type": "code",
      "execution_count": null,
      "metadata": {},
      "outputs": [],
      "source": [
        "best_model = tuner.get_best_models(num_models=1)[0]\n",
        "mse = best_model.evaluate(X_test, y_test)[0]\n",
        "print(f\"Mean Squared Error on Test Set: {mse}\")"
      ]
    },
    {
      "cell_type": "code",
      "execution_count": null,
      "metadata": {
        "id": "FAojhccJk0fP"
      },
      "outputs": [],
      "source": [
        "# View best model\n",
        "# best_model = tuner.get_best_models()[0]\n",
        "# best_model.summary()\n"
      ]
    },
    {
      "cell_type": "code",
      "execution_count": null,
      "metadata": {
        "id": "_Gwx-kbkk0fP"
      },
      "outputs": [],
      "source": [
        "# Evaluate the best model\n",
        "# loss, acc = best_model.evaluate(X_test, y_test)\n",
        "# print('ACC: ', acc)\n",
        "# print('LOSS: ', loss)"
      ]
    }
  ],
  "metadata": {
    "colab": {
      "provenance": []
    },
    "kernelspec": {
      "display_name": "Python 3",
      "language": "python",
      "name": "python3"
    },
    "language_info": {
      "codemirror_mode": {
        "name": "ipython",
        "version": 3
      },
      "file_extension": ".py",
      "mimetype": "text/x-python",
      "name": "python",
      "nbconvert_exporter": "python",
      "pygments_lexer": "ipython3",
      "version": "3.11.0"
    }
  },
  "nbformat": 4,
  "nbformat_minor": 0
}

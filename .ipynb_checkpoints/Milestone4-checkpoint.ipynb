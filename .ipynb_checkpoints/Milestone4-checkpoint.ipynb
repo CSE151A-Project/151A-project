{
 "cells": [
  {
   "cell_type": "code",
   "execution_count": 1,
   "metadata": {
    "id": "yzrVg_B6k0fL"
   },
   "outputs": [],
   "source": [
    "import pandas as pd\n",
    "import numpy as np\n",
    "import matplotlib.pyplot as plt\n",
    "from sklearn.model_selection import train_test_split\n",
    "import keras_tuner\n",
    "import keras"
   ]
  },
  {
   "cell_type": "code",
   "execution_count": 2,
   "metadata": {
    "colab": {
     "base_uri": "https://localhost:8080/",
     "height": 244
    },
    "id": "EHiJc-N-k0fM",
    "outputId": "1866cc82-6326-4648-e9e3-d68a953e6718"
   },
   "outputs": [
    {
     "data": {
      "text/html": [
       "<div>\n",
       "<style scoped>\n",
       "    .dataframe tbody tr th:only-of-type {\n",
       "        vertical-align: middle;\n",
       "    }\n",
       "\n",
       "    .dataframe tbody tr th {\n",
       "        vertical-align: top;\n",
       "    }\n",
       "\n",
       "    .dataframe thead th {\n",
       "        text-align: right;\n",
       "    }\n",
       "</style>\n",
       "<table border=\"1\" class=\"dataframe\">\n",
       "  <thead>\n",
       "    <tr style=\"text-align: right;\">\n",
       "      <th></th>\n",
       "      <th>log_price</th>\n",
       "      <th>property_type</th>\n",
       "      <th>accommodates</th>\n",
       "      <th>bathrooms</th>\n",
       "      <th>host_response_rate</th>\n",
       "      <th>bedrooms</th>\n",
       "      <th>beds</th>\n",
       "      <th>room_type_Private room</th>\n",
       "      <th>room_type_Shared room</th>\n",
       "      <th>bed_type_Couch</th>\n",
       "      <th>bed_type_Futon</th>\n",
       "      <th>bed_type_Pull-out Sofa</th>\n",
       "      <th>bed_type_Real Bed</th>\n",
       "      <th>cancellation_policy_moderate</th>\n",
       "      <th>cancellation_policy_strict</th>\n",
       "      <th>cancellation_policy_super_strict_30</th>\n",
       "      <th>cancellation_policy_super_strict_60</th>\n",
       "      <th>city_Chicago</th>\n",
       "      <th>city_DC</th>\n",
       "      <th>city_LA</th>\n",
       "      <th>city_NYC</th>\n",
       "      <th>city_SF</th>\n",
       "      <th>cleaning_fee_True</th>\n",
       "      <th>host_has_profile_pic_t</th>\n",
       "      <th>property_type_encoded</th>\n",
       "      <th>des_sentiment_analysis</th>\n",
       "      <th>name_sentiment_analysis</th>\n",
       "    </tr>\n",
       "  </thead>\n",
       "  <tbody>\n",
       "    <tr>\n",
       "      <th>0</th>\n",
       "      <td>5.010635</td>\n",
       "      <td>Apartment</td>\n",
       "      <td>-0.072621</td>\n",
       "      <td>-0.404046</td>\n",
       "      <td>0.296013</td>\n",
       "      <td>-0.312048</td>\n",
       "      <td>-0.566461</td>\n",
       "      <td>0</td>\n",
       "      <td>0</td>\n",
       "      <td>0</td>\n",
       "      <td>0</td>\n",
       "      <td>0</td>\n",
       "      <td>1</td>\n",
       "      <td>0</td>\n",
       "      <td>1</td>\n",
       "      <td>0</td>\n",
       "      <td>0</td>\n",
       "      <td>0</td>\n",
       "      <td>0</td>\n",
       "      <td>0</td>\n",
       "      <td>1</td>\n",
       "      <td>0</td>\n",
       "      <td>1</td>\n",
       "      <td>1</td>\n",
       "      <td>-0.245434</td>\n",
       "      <td>0.216242</td>\n",
       "      <td>-0.435248</td>\n",
       "    </tr>\n",
       "    <tr>\n",
       "      <th>1</th>\n",
       "      <td>5.129899</td>\n",
       "      <td>Apartment</td>\n",
       "      <td>1.783653</td>\n",
       "      <td>-0.404046</td>\n",
       "      <td>0.296013</td>\n",
       "      <td>2.034955</td>\n",
       "      <td>1.027816</td>\n",
       "      <td>0</td>\n",
       "      <td>0</td>\n",
       "      <td>0</td>\n",
       "      <td>0</td>\n",
       "      <td>0</td>\n",
       "      <td>1</td>\n",
       "      <td>0</td>\n",
       "      <td>1</td>\n",
       "      <td>0</td>\n",
       "      <td>0</td>\n",
       "      <td>0</td>\n",
       "      <td>0</td>\n",
       "      <td>0</td>\n",
       "      <td>1</td>\n",
       "      <td>0</td>\n",
       "      <td>1</td>\n",
       "      <td>1</td>\n",
       "      <td>-0.245434</td>\n",
       "      <td>0.837002</td>\n",
       "      <td>-1.788095</td>\n",
       "    </tr>\n",
       "    <tr>\n",
       "      <th>2</th>\n",
       "      <td>4.976734</td>\n",
       "      <td>Apartment</td>\n",
       "      <td>0.855516</td>\n",
       "      <td>-0.404046</td>\n",
       "      <td>0.296013</td>\n",
       "      <td>-0.312048</td>\n",
       "      <td>1.027816</td>\n",
       "      <td>0</td>\n",
       "      <td>0</td>\n",
       "      <td>0</td>\n",
       "      <td>0</td>\n",
       "      <td>0</td>\n",
       "      <td>1</td>\n",
       "      <td>1</td>\n",
       "      <td>0</td>\n",
       "      <td>0</td>\n",
       "      <td>0</td>\n",
       "      <td>0</td>\n",
       "      <td>0</td>\n",
       "      <td>0</td>\n",
       "      <td>1</td>\n",
       "      <td>0</td>\n",
       "      <td>1</td>\n",
       "      <td>1</td>\n",
       "      <td>-0.245434</td>\n",
       "      <td>0.808508</td>\n",
       "      <td>-0.133695</td>\n",
       "    </tr>\n",
       "    <tr>\n",
       "      <th>3</th>\n",
       "      <td>6.620073</td>\n",
       "      <td>House</td>\n",
       "      <td>0.391448</td>\n",
       "      <td>-0.404046</td>\n",
       "      <td>0.296013</td>\n",
       "      <td>0.861454</td>\n",
       "      <td>0.230678</td>\n",
       "      <td>0</td>\n",
       "      <td>0</td>\n",
       "      <td>0</td>\n",
       "      <td>0</td>\n",
       "      <td>0</td>\n",
       "      <td>1</td>\n",
       "      <td>0</td>\n",
       "      <td>0</td>\n",
       "      <td>0</td>\n",
       "      <td>0</td>\n",
       "      <td>0</td>\n",
       "      <td>0</td>\n",
       "      <td>0</td>\n",
       "      <td>0</td>\n",
       "      <td>1</td>\n",
       "      <td>1</td>\n",
       "      <td>1</td>\n",
       "      <td>0.158745</td>\n",
       "      <td>0.213627</td>\n",
       "      <td>-0.926212</td>\n",
       "    </tr>\n",
       "    <tr>\n",
       "      <th>4</th>\n",
       "      <td>4.744932</td>\n",
       "      <td>Apartment</td>\n",
       "      <td>-0.536689</td>\n",
       "      <td>-0.404046</td>\n",
       "      <td>0.296013</td>\n",
       "      <td>-1.485549</td>\n",
       "      <td>-0.566461</td>\n",
       "      <td>0</td>\n",
       "      <td>0</td>\n",
       "      <td>0</td>\n",
       "      <td>0</td>\n",
       "      <td>0</td>\n",
       "      <td>1</td>\n",
       "      <td>1</td>\n",
       "      <td>0</td>\n",
       "      <td>0</td>\n",
       "      <td>0</td>\n",
       "      <td>0</td>\n",
       "      <td>1</td>\n",
       "      <td>0</td>\n",
       "      <td>0</td>\n",
       "      <td>0</td>\n",
       "      <td>1</td>\n",
       "      <td>1</td>\n",
       "      <td>-0.245434</td>\n",
       "      <td>-0.101872</td>\n",
       "      <td>-0.095776</td>\n",
       "    </tr>\n",
       "  </tbody>\n",
       "</table>\n",
       "</div>"
      ],
      "text/plain": [
       "   log_price property_type  accommodates  bathrooms  host_response_rate  \\\n",
       "0   5.010635     Apartment     -0.072621  -0.404046            0.296013   \n",
       "1   5.129899     Apartment      1.783653  -0.404046            0.296013   \n",
       "2   4.976734     Apartment      0.855516  -0.404046            0.296013   \n",
       "3   6.620073         House      0.391448  -0.404046            0.296013   \n",
       "4   4.744932     Apartment     -0.536689  -0.404046            0.296013   \n",
       "\n",
       "   bedrooms      beds  room_type_Private room  room_type_Shared room  \\\n",
       "0 -0.312048 -0.566461                       0                      0   \n",
       "1  2.034955  1.027816                       0                      0   \n",
       "2 -0.312048  1.027816                       0                      0   \n",
       "3  0.861454  0.230678                       0                      0   \n",
       "4 -1.485549 -0.566461                       0                      0   \n",
       "\n",
       "   bed_type_Couch  bed_type_Futon  bed_type_Pull-out Sofa  bed_type_Real Bed  \\\n",
       "0               0               0                       0                  1   \n",
       "1               0               0                       0                  1   \n",
       "2               0               0                       0                  1   \n",
       "3               0               0                       0                  1   \n",
       "4               0               0                       0                  1   \n",
       "\n",
       "   cancellation_policy_moderate  cancellation_policy_strict  \\\n",
       "0                             0                           1   \n",
       "1                             0                           1   \n",
       "2                             1                           0   \n",
       "3                             0                           0   \n",
       "4                             1                           0   \n",
       "\n",
       "   cancellation_policy_super_strict_30  cancellation_policy_super_strict_60  \\\n",
       "0                                    0                                    0   \n",
       "1                                    0                                    0   \n",
       "2                                    0                                    0   \n",
       "3                                    0                                    0   \n",
       "4                                    0                                    0   \n",
       "\n",
       "   city_Chicago  city_DC  city_LA  city_NYC  city_SF  cleaning_fee_True  \\\n",
       "0             0        0        0         1        0                  1   \n",
       "1             0        0        0         1        0                  1   \n",
       "2             0        0        0         1        0                  1   \n",
       "3             0        0        0         0        1                  1   \n",
       "4             0        1        0         0        0                  1   \n",
       "\n",
       "   host_has_profile_pic_t  property_type_encoded  des_sentiment_analysis  \\\n",
       "0                       1              -0.245434                0.216242   \n",
       "1                       1              -0.245434                0.837002   \n",
       "2                       1              -0.245434                0.808508   \n",
       "3                       1               0.158745                0.213627   \n",
       "4                       1              -0.245434               -0.101872   \n",
       "\n",
       "   name_sentiment_analysis  \n",
       "0                -0.435248  \n",
       "1                -1.788095  \n",
       "2                -0.133695  \n",
       "3                -0.926212  \n",
       "4                -0.095776  "
      ]
     },
     "execution_count": 2,
     "metadata": {},
     "output_type": "execute_result"
    }
   ],
   "source": [
    "csv_file_path = './airbnb_dataset/milestone3.csv'\n",
    "df = pd.read_csv(csv_file_path)\n",
    "pd.set_option('display.max_columns', None)\n",
    "df.head()"
   ]
  },
  {
   "cell_type": "code",
   "execution_count": 3,
   "metadata": {
    "id": "RRfp1Fy8k0fM"
   },
   "outputs": [],
   "source": [
    "features = [col for col in df.columns if col != 'log_price' and df[col].dtype in ['int64', 'float64']]\n",
    "X = df[features]\n",
    "y = df['log_price']"
   ]
  },
  {
   "cell_type": "code",
   "execution_count": 4,
   "metadata": {
    "id": "ign6_jrik0fN"
   },
   "outputs": [],
   "source": [
    "X_train, X_test, y_train, y_test = train_test_split(X, y, test_size=0.2, random_state=42)"
   ]
  },
  {
   "cell_type": "markdown",
   "metadata": {
    "id": "8HlRQxrok0fN"
   },
   "source": [
    "### Train with NN"
   ]
  },
  {
   "cell_type": "code",
   "execution_count": 5,
   "metadata": {
    "id": "woKUzwKlk0fN"
   },
   "outputs": [],
   "source": [
    "# Uncomment below if tensorflow is not installed already\n",
    "#%pip install tensorflow\n",
    "from sklearn.preprocessing import StandardScaler\n",
    "from tensorflow.keras.models import Sequential\n",
    "from tensorflow.keras.layers import Dense"
   ]
  },
  {
   "cell_type": "code",
   "execution_count": 6,
   "metadata": {
    "id": "sbtm6rYzk0fO"
   },
   "outputs": [],
   "source": [
    "# Build Neural Network\n",
    "nn_model = Sequential([\n",
    "    Dense(32, activation='relu', input_dim=X_train.shape[1]),\n",
    "    Dense(16, activation='relu'),\n",
    "    Dense(8, activation='relu'),\n",
    "    Dense(1)\n",
    "])\n",
    "\n",
    "nn_model.compile(optimizer='adam', loss='mean_squared_error')"
   ]
  },
  {
   "cell_type": "code",
   "execution_count": 7,
   "metadata": {
    "colab": {
     "base_uri": "https://localhost:8080/"
    },
    "id": "iT-i2N6Dk0fO",
    "outputId": "2db7435e-9c6b-4eeb-9475-847148cc82a2"
   },
   "outputs": [
    {
     "name": "stdout",
     "output_type": "stream",
     "text": [
      "Epoch 1/10\n",
      "1849/1849 [==============================] - 1s 671us/step - loss: 1.2613 - val_loss: 0.2238\n",
      "Epoch 2/10\n",
      "1849/1849 [==============================] - 1s 617us/step - loss: 0.2089 - val_loss: 0.2077\n",
      "Epoch 3/10\n",
      "1849/1849 [==============================] - 1s 612us/step - loss: 0.2012 - val_loss: 0.2198\n",
      "Epoch 4/10\n",
      "1849/1849 [==============================] - 1s 618us/step - loss: 0.1963 - val_loss: 0.1960\n",
      "Epoch 5/10\n",
      "1849/1849 [==============================] - 1s 622us/step - loss: 0.1927 - val_loss: 0.1913\n",
      "Epoch 6/10\n",
      "1849/1849 [==============================] - 1s 617us/step - loss: 0.1904 - val_loss: 0.1962\n",
      "Epoch 7/10\n",
      "1849/1849 [==============================] - 1s 618us/step - loss: 0.1886 - val_loss: 0.1910\n",
      "Epoch 8/10\n",
      "1849/1849 [==============================] - 1s 620us/step - loss: 0.1874 - val_loss: 0.1967\n",
      "Epoch 9/10\n",
      "1849/1849 [==============================] - 1s 614us/step - loss: 0.1856 - val_loss: 0.1882\n",
      "Epoch 10/10\n",
      "1849/1849 [==============================] - 1s 613us/step - loss: 0.1851 - val_loss: 0.1868\n"
     ]
    }
   ],
   "source": [
    "# Train the model\n",
    "history = nn_model.fit(X_train, y_train, epochs=10, batch_size=32, validation_data=(X_test, y_test))"
   ]
  },
  {
   "cell_type": "code",
   "execution_count": 8,
   "metadata": {
    "colab": {
     "base_uri": "https://localhost:8080/"
    },
    "id": "QBgeds4uk0fO",
    "outputId": "069e603f-f3b5-491b-a396-3783a2289d8f"
   },
   "outputs": [
    {
     "name": "stdout",
     "output_type": "stream",
     "text": [
      "463/463 [==============================] - 0s 351us/step - loss: 0.1868\n",
      "Mean Squared Error on Test Set: 0.18680289387702942\n"
     ]
    }
   ],
   "source": [
    "# Evaluate the model\n",
    "mse = nn_model.evaluate(X_test, y_test)\n",
    "print(f\"Mean Squared Error on Test Set: {mse}\")"
   ]
  },
  {
   "cell_type": "markdown",
   "metadata": {
    "id": "Es1iL4jRk0fO"
   },
   "source": [
    "### Hyper Tuning"
   ]
  },
  {
   "cell_type": "code",
   "execution_count": 8,
   "metadata": {
    "id": "hEu-Vtpxk0fO"
   },
   "outputs": [],
   "source": [
    "def build_hp_model(hp):\n",
    "    model = Sequential()\n",
    "    for i in range(hp.Int('num_layers', 1, 5)):\n",
    "        model.add(Dense(units=hp.Int('units_' + str(i), min_value=32, max_value=128, step=32),\n",
    "                        activation='relu'))\n",
    "    model.add(Dense(1))\n",
    "    learning_rate = hp.Float('learning_rate', min_value=1e-4, max_value=1e-2, sampling='LOG')\n",
    "    model.compile(optimizer=keras.optimizers.Adam(learning_rate=learning_rate),\n",
    "                  loss='mean_squared_error',\n",
    "                  metrics=['mean_squared_error'])\n",
    "    return model"
   ]
  },
  {
   "cell_type": "code",
   "execution_count": 13,
   "metadata": {
    "id": "Zppg1sxbk0fP"
   },
   "outputs": [],
   "source": [
    "early_stopping = keras.callbacks.EarlyStopping(\n",
    "    monitor='loss',\n",
    "    min_delta=0.001,\n",
    "    patience=5,\n",
    "    mode='auto',\n",
    "    baseline=None,\n",
    "    restore_best_weights=False,\n",
    "    start_from_epoch=0\n",
    ")\n",
    "\n",
    "model_checkpoint = keras.callbacks.ModelCheckpoint(\n",
    "    filepath='checkpoints',\n",
    "    monitor='loss',\n",
    "    save_best_only=True,\n",
    "    save_weights_only= False,\n",
    "    mode='auto'\n",
    ")"
   ]
  },
  {
   "cell_type": "code",
   "execution_count": 16,
   "metadata": {
    "id": "ZkGg1wUFk0fP"
   },
   "outputs": [],
   "source": [
    "tuner = keras_tuner.RandomSearch(\n",
    "    hypermodel=build_hp_model,\n",
    "    objective='val_mean_squared_error',\n",
    "    max_trials=10,\n",
    "    seed=10,\n",
    "    executions_per_trial=3,\n",
    "    overwrite=True,\n",
    "    tune_new_entries=True,\n",
    "    allow_new_entries=True,\n",
    "    max_consecutive_failed_trials=1\n",
    ")"
   ]
  },
  {
   "cell_type": "code",
   "execution_count": 17,
   "metadata": {
    "colab": {
     "base_uri": "https://localhost:8080/"
    },
    "id": "Vzz-7xCXk0fP",
    "outputId": "143383cc-bf72-4e2f-90e3-03584b0b0bab"
   },
   "outputs": [
    {
     "name": "stdout",
     "output_type": "stream",
     "text": [
      "Trial 10 Complete [00h 00m 39s]\n",
      "val_mean_squared_error: 0.18341276049613953\n",
      "\n",
      "Best val_mean_squared_error So Far: 0.18206279973189035\n",
      "Total elapsed time: 00h 06m 17s\n"
     ]
    }
   ],
   "source": [
    "# Start searching\n",
    "tuner_search = tuner.search(X_train, y_train, epochs=10, callbacks=[early_stopping, model_checkpoint], validation_split=0.2)"
   ]
  },
  {
   "cell_type": "code",
   "execution_count": 18,
   "metadata": {
    "colab": {
     "base_uri": "https://localhost:8080/"
    },
    "id": "7uFJlmTak0fP",
    "outputId": "2f310369-a957-420a-f5d7-d9b9b64d6a9c"
   },
   "outputs": [
    {
     "name": "stdout",
     "output_type": "stream",
     "text": [
      "Results summary\n",
      "Results in ./untitled_project\n",
      "Showing 10 best trials\n",
      "Objective(name=\"val_mean_squared_error\", direction=\"min\")\n",
      "\n",
      "Trial 00 summary\n",
      "Hyperparameters:\n",
      "num_layers: 3\n",
      "units_0: 64\n",
      "learning_rate: 0.0008894905887153519\n",
      "units_1: 32\n",
      "units_2: 32\n",
      "Score: 0.18206279973189035\n",
      "\n",
      "Trial 08 summary\n",
      "Hyperparameters:\n",
      "num_layers: 5\n",
      "units_0: 32\n",
      "learning_rate: 0.001450488633461591\n",
      "units_1: 32\n",
      "units_2: 64\n",
      "units_3: 64\n",
      "units_4: 128\n",
      "Score: 0.18224942684173584\n",
      "\n",
      "Trial 06 summary\n",
      "Hyperparameters:\n",
      "num_layers: 4\n",
      "units_0: 32\n",
      "learning_rate: 0.0006562536901904111\n",
      "units_1: 64\n",
      "units_2: 128\n",
      "units_3: 64\n",
      "units_4: 96\n",
      "Score: 0.18262764314810434\n",
      "\n",
      "Trial 03 summary\n",
      "Hyperparameters:\n",
      "num_layers: 5\n",
      "units_0: 96\n",
      "learning_rate: 0.0005674460859990781\n",
      "units_1: 96\n",
      "units_2: 96\n",
      "units_3: 32\n",
      "units_4: 32\n",
      "Score: 0.18283176918824515\n",
      "\n",
      "Trial 05 summary\n",
      "Hyperparameters:\n",
      "num_layers: 3\n",
      "units_0: 64\n",
      "learning_rate: 0.002312113349326375\n",
      "units_1: 96\n",
      "units_2: 32\n",
      "units_3: 64\n",
      "units_4: 64\n",
      "Score: 0.1832175056139628\n",
      "\n",
      "Trial 09 summary\n",
      "Hyperparameters:\n",
      "num_layers: 3\n",
      "units_0: 64\n",
      "learning_rate: 0.0006752863927347823\n",
      "units_1: 32\n",
      "units_2: 32\n",
      "units_3: 96\n",
      "units_4: 96\n",
      "Score: 0.18341276049613953\n",
      "\n",
      "Trial 04 summary\n",
      "Hyperparameters:\n",
      "num_layers: 1\n",
      "units_0: 96\n",
      "learning_rate: 0.0011971901340926848\n",
      "units_1: 32\n",
      "units_2: 32\n",
      "units_3: 96\n",
      "units_4: 96\n",
      "Score: 0.1846653421719869\n",
      "\n",
      "Trial 02 summary\n",
      "Hyperparameters:\n",
      "num_layers: 1\n",
      "units_0: 96\n",
      "learning_rate: 0.006475590128522282\n",
      "units_1: 32\n",
      "units_2: 128\n",
      "Score: 0.18634653588136038\n",
      "\n",
      "Trial 01 summary\n",
      "Hyperparameters:\n",
      "num_layers: 2\n",
      "units_0: 32\n",
      "learning_rate: 0.008520876742029873\n",
      "units_1: 64\n",
      "units_2: 96\n",
      "Score: 0.1881736914316813\n",
      "\n",
      "Trial 07 summary\n",
      "Hyperparameters:\n",
      "num_layers: 1\n",
      "units_0: 64\n",
      "learning_rate: 0.0003069273045576997\n",
      "units_1: 128\n",
      "units_2: 96\n",
      "units_3: 128\n",
      "units_4: 32\n",
      "Score: 0.19277211527029672\n"
     ]
    }
   ],
   "source": [
    "# View summary of searching\n",
    "tuner.results_summary()"
   ]
  },
  {
   "cell_type": "code",
   "execution_count": 19,
   "metadata": {
    "colab": {
     "base_uri": "https://localhost:8080/"
    },
    "id": "mzo1VEn8k0fP",
    "outputId": "61e53941-7d0d-4f33-afe2-b8eafe6fcafc"
   },
   "outputs": [
    {
     "data": {
      "text/plain": [
       "{'num_layers': 3,\n",
       " 'units_0': 64,\n",
       " 'learning_rate': 0.0008894905887153519,\n",
       " 'units_1': 32,\n",
       " 'units_2': 32}"
      ]
     },
     "execution_count": 19,
     "metadata": {},
     "output_type": "execute_result"
    }
   ],
   "source": [
    "# View best hyperparameters\n",
    "best_hp = tuner.get_best_hyperparameters()[0]\n",
    "best_hp.values"
   ]
  },
  {
   "cell_type": "code",
   "execution_count": 33,
   "metadata": {
    "id": "FAojhccJk0fP"
   },
   "outputs": [],
   "source": [
    "# View best model\n",
    "# best_model = tuner.get_best_models()[0]\n",
    "# best_model.summary()\n"
   ]
  },
  {
   "cell_type": "code",
   "execution_count": null,
   "metadata": {
    "id": "_Gwx-kbkk0fP"
   },
   "outputs": [],
   "source": [
    "# Evaluate the best model\n",
    "# loss, acc = best_model.evaluate(X_test, y_test)\n",
    "# print('ACC: ', acc)\n",
    "# print('LOSS: ', loss)"
   ]
  },
  {
   "cell_type": "markdown",
   "metadata": {
    "id": "zcFGo_eQk0fQ"
   },
   "source": [
    "### Train With XGB"
   ]
  },
  {
   "cell_type": "code",
   "execution_count": null,
   "metadata": {
    "id": "KYOvJaUhk0fQ"
   },
   "outputs": [],
   "source": [
    "#Uncomment if first time run\n",
    "#%pip install xgboost\n",
    "import xgboost as xgb\n",
    "from sklearn.metrics import mean_squared_error\n",
    "\n",
    "dtrain = xgb.DMatrix(X_train, label=y_train)\n",
    "dtest = xgb.DMatrix(X_test, label=y_test)\n",
    "\n",
    "#hyperparam may need here\n",
    "param = {\n",
    "    'max_depth': 5,\n",
    "    'eta': 0.3,\n",
    "    'objective': 'reg:squarederror',\n",
    "    'eval_metric': 'rmse'\n",
    "}\n"
   ]
  },
  {
   "cell_type": "code",
   "execution_count": null,
   "metadata": {
    "id": "SHbBtMr-k0fQ",
    "outputId": "827b5c94-7e0b-43f5-c43c-93d9daf22f52"
   },
   "outputs": [
    {
     "name": "stdout",
     "output_type": "stream",
     "text": [
      "[0]\ttrain-rmse:0.59766\n",
      "[1]\ttrain-rmse:0.52831\n",
      "[2]\ttrain-rmse:0.48884\n",
      "[3]\ttrain-rmse:0.46572\n",
      "[4]\ttrain-rmse:0.45221\n",
      "[5]\ttrain-rmse:0.44386\n",
      "[6]\ttrain-rmse:0.43829\n",
      "[7]\ttrain-rmse:0.43369\n",
      "[8]\ttrain-rmse:0.43119\n",
      "[9]\ttrain-rmse:0.42911\n",
      "[10]\ttrain-rmse:0.42708\n",
      "[11]\ttrain-rmse:0.42557\n",
      "[12]\ttrain-rmse:0.42471\n",
      "[13]\ttrain-rmse:0.42342\n",
      "[14]\ttrain-rmse:0.42230\n",
      "[15]\ttrain-rmse:0.42161\n",
      "[16]\ttrain-rmse:0.42120\n",
      "[17]\ttrain-rmse:0.42024\n",
      "[18]\ttrain-rmse:0.41965\n",
      "[19]\ttrain-rmse:0.41919\n",
      "[20]\ttrain-rmse:0.41876\n",
      "[21]\ttrain-rmse:0.41845\n",
      "[22]\ttrain-rmse:0.41778\n",
      "[23]\ttrain-rmse:0.41731\n",
      "[24]\ttrain-rmse:0.41707\n",
      "[25]\ttrain-rmse:0.41654\n",
      "[26]\ttrain-rmse:0.41623\n",
      "[27]\ttrain-rmse:0.41574\n",
      "[28]\ttrain-rmse:0.41528\n",
      "[29]\ttrain-rmse:0.41510\n",
      "[30]\ttrain-rmse:0.41469\n",
      "[31]\ttrain-rmse:0.41432\n",
      "[32]\ttrain-rmse:0.41410\n",
      "[33]\ttrain-rmse:0.41392\n",
      "[34]\ttrain-rmse:0.41368\n",
      "[35]\ttrain-rmse:0.41351\n",
      "[36]\ttrain-rmse:0.41289\n",
      "[37]\ttrain-rmse:0.41241\n",
      "[38]\ttrain-rmse:0.41201\n",
      "[39]\ttrain-rmse:0.41173\n",
      "[40]\ttrain-rmse:0.41140\n",
      "[41]\ttrain-rmse:0.41119\n",
      "[42]\ttrain-rmse:0.41086\n",
      "[43]\ttrain-rmse:0.41030\n",
      "[44]\ttrain-rmse:0.41019\n",
      "[45]\ttrain-rmse:0.40984\n",
      "[46]\ttrain-rmse:0.40949\n",
      "[47]\ttrain-rmse:0.40933\n",
      "[48]\ttrain-rmse:0.40926\n",
      "[49]\ttrain-rmse:0.40896\n",
      "[50]\ttrain-rmse:0.40860\n",
      "[51]\ttrain-rmse:0.40841\n",
      "[52]\ttrain-rmse:0.40812\n",
      "[53]\ttrain-rmse:0.40789\n",
      "[54]\ttrain-rmse:0.40778\n",
      "[55]\ttrain-rmse:0.40762\n",
      "[56]\ttrain-rmse:0.40746\n",
      "[57]\ttrain-rmse:0.40727\n",
      "[58]\ttrain-rmse:0.40715\n",
      "[59]\ttrain-rmse:0.40686\n",
      "[60]\ttrain-rmse:0.40652\n",
      "[61]\ttrain-rmse:0.40628\n",
      "[62]\ttrain-rmse:0.40608\n",
      "[63]\ttrain-rmse:0.40601\n",
      "[64]\ttrain-rmse:0.40583\n",
      "[65]\ttrain-rmse:0.40567\n",
      "[66]\ttrain-rmse:0.40561\n",
      "[67]\ttrain-rmse:0.40536\n",
      "[68]\ttrain-rmse:0.40522\n",
      "[69]\ttrain-rmse:0.40499\n",
      "[70]\ttrain-rmse:0.40484\n",
      "[71]\ttrain-rmse:0.40467\n",
      "[72]\ttrain-rmse:0.40438\n",
      "[73]\ttrain-rmse:0.40424\n",
      "[74]\ttrain-rmse:0.40394\n",
      "[75]\ttrain-rmse:0.40368\n",
      "[76]\ttrain-rmse:0.40340\n",
      "[77]\ttrain-rmse:0.40317\n",
      "[78]\ttrain-rmse:0.40309\n",
      "[79]\ttrain-rmse:0.40290\n",
      "[80]\ttrain-rmse:0.40272\n",
      "[81]\ttrain-rmse:0.40266\n",
      "[82]\ttrain-rmse:0.40245\n",
      "[83]\ttrain-rmse:0.40235\n",
      "[84]\ttrain-rmse:0.40210\n",
      "[85]\ttrain-rmse:0.40185\n",
      "[86]\ttrain-rmse:0.40176\n",
      "[87]\ttrain-rmse:0.40151\n",
      "[88]\ttrain-rmse:0.40133\n",
      "[89]\ttrain-rmse:0.40115\n",
      "[90]\ttrain-rmse:0.40104\n",
      "[91]\ttrain-rmse:0.40096\n",
      "[92]\ttrain-rmse:0.40079\n",
      "[93]\ttrain-rmse:0.40059\n",
      "[94]\ttrain-rmse:0.40039\n",
      "[95]\ttrain-rmse:0.40026\n",
      "[96]\ttrain-rmse:0.40001\n",
      "[97]\ttrain-rmse:0.39977\n",
      "[98]\ttrain-rmse:0.39955\n",
      "[99]\ttrain-rmse:0.39932\n",
      "Train RMSE: 0.399317\n",
      "Train MSE: 0.159454\n"
     ]
    }
   ],
   "source": [
    "num_round = 100\n",
    "model = xgb.train(param, dtrain, num_round, evals=[(dtrain, 'train')], early_stopping_rounds=10)\n",
    "y_pred = model.predict(dtrain)\n",
    "\n",
    "mse = mean_squared_error(y_train, y_pred)\n",
    "rmse = np.sqrt(mse)\n",
    "print(\"Train RMSE: %f\" % (rmse))\n",
    "print(\"Train MSE: %f\" % (mse))"
   ]
  },
  {
   "cell_type": "code",
   "execution_count": null,
   "metadata": {
    "id": "e-zo0qBnk0fQ",
    "outputId": "e2050e7c-9b6c-4d82-ed2c-d33407926958"
   },
   "outputs": [
    {
     "name": "stdout",
     "output_type": "stream",
     "text": [
      "[0]\ttest-rmse:0.60615\n",
      "[1]\ttest-rmse:0.53566\n",
      "[2]\ttest-rmse:0.49533\n",
      "[3]\ttest-rmse:0.47205\n",
      "[4]\ttest-rmse:0.45807\n",
      "[5]\ttest-rmse:0.45032\n",
      "[6]\ttest-rmse:0.44487\n",
      "[7]\ttest-rmse:0.44027\n",
      "[8]\ttest-rmse:0.43802\n",
      "[9]\ttest-rmse:0.43639\n",
      "[10]\ttest-rmse:0.43442\n",
      "[11]\ttest-rmse:0.43337\n",
      "[12]\ttest-rmse:0.43279\n",
      "[13]\ttest-rmse:0.43185\n",
      "[14]\ttest-rmse:0.43104\n",
      "[15]\ttest-rmse:0.43076\n",
      "[16]\ttest-rmse:0.43062\n",
      "[17]\ttest-rmse:0.42990\n",
      "[18]\ttest-rmse:0.42979\n",
      "[19]\ttest-rmse:0.42947\n",
      "[20]\ttest-rmse:0.42913\n",
      "[21]\ttest-rmse:0.42921\n",
      "[22]\ttest-rmse:0.42874\n",
      "[23]\ttest-rmse:0.42862\n",
      "[24]\ttest-rmse:0.42860\n",
      "[25]\ttest-rmse:0.42839\n",
      "[26]\ttest-rmse:0.42833\n",
      "[27]\ttest-rmse:0.42789\n",
      "[28]\ttest-rmse:0.42787\n",
      "[29]\ttest-rmse:0.42785\n",
      "[30]\ttest-rmse:0.42771\n",
      "[31]\ttest-rmse:0.42763\n",
      "[32]\ttest-rmse:0.42750\n",
      "[33]\ttest-rmse:0.42741\n",
      "[34]\ttest-rmse:0.42736\n",
      "[35]\ttest-rmse:0.42732\n",
      "[36]\ttest-rmse:0.42700\n",
      "[37]\ttest-rmse:0.42673\n",
      "[38]\ttest-rmse:0.42650\n",
      "[39]\ttest-rmse:0.42651\n",
      "[40]\ttest-rmse:0.42636\n",
      "[41]\ttest-rmse:0.42631\n",
      "[42]\ttest-rmse:0.42618\n",
      "[43]\ttest-rmse:0.42597\n",
      "[44]\ttest-rmse:0.42590\n",
      "[45]\ttest-rmse:0.42591\n",
      "[46]\ttest-rmse:0.42585\n",
      "[47]\ttest-rmse:0.42584\n",
      "[48]\ttest-rmse:0.42580\n",
      "[49]\ttest-rmse:0.42583\n",
      "[50]\ttest-rmse:0.42572\n",
      "[51]\ttest-rmse:0.42564\n",
      "[52]\ttest-rmse:0.42564\n",
      "[53]\ttest-rmse:0.42564\n",
      "[54]\ttest-rmse:0.42560\n",
      "[55]\ttest-rmse:0.42567\n",
      "[56]\ttest-rmse:0.42570\n",
      "[57]\ttest-rmse:0.42569\n",
      "[58]\ttest-rmse:0.42568\n",
      "[59]\ttest-rmse:0.42576\n",
      "[60]\ttest-rmse:0.42578\n",
      "[61]\ttest-rmse:0.42582\n",
      "[62]\ttest-rmse:0.42582\n",
      "[63]\ttest-rmse:0.42581\n",
      "[64]\ttest-rmse:0.42577\n",
      "Test RMSE: 0.425770\n",
      "Test MSE: 0.181280\n"
     ]
    }
   ],
   "source": [
    "model = xgb.train(param, dtrain, num_round, evals=[(dtest, 'test')], early_stopping_rounds=10)\n",
    "\n",
    "y_pred = model.predict(dtest)\n",
    "\n",
    "mse = mean_squared_error(y_test, y_pred)\n",
    "rmse = np.sqrt(mse)\n",
    "print(\"Test RMSE: %f\" % (rmse))\n",
    "print(\"Test MSE: %f\" % (mse))"
   ]
  },
  {
   "cell_type": "markdown",
   "metadata": {},
   "source": [
    "### K-fold Cross validation"
   ]
  },
  {
   "cell_type": "code",
   "execution_count": 9,
   "metadata": {},
   "outputs": [],
   "source": [
    "from sklearn.model_selection import KFold"
   ]
  },
  {
   "cell_type": "code",
   "execution_count": 10,
   "metadata": {},
   "outputs": [
    {
     "name": "stdout",
     "output_type": "stream",
     "text": [
      "Training for fold 1\n",
      "Score for fold 1: loss of 0.1912561058998108;\n",
      "Training for fold 2\n",
      "Score for fold 2: loss of 0.18747642636299133;\n",
      "Training for fold 3\n",
      "Score for fold 3: loss of 0.17774342000484467;\n",
      "Training for fold 4\n",
      "Score for fold 4: loss of 0.19078503549098969;\n",
      "Training for fold 5\n",
      "Score for fold 5: loss of 0.181499645113945;\n",
      "\n",
      "Mean MSE across all folds: 0.18575212657451629\n"
     ]
    }
   ],
   "source": [
    "kfold = KFold(n_splits=5, shuffle=True)\n",
    "\n",
    "\n",
    "mse_scores = []\n",
    "\n",
    "\n",
    "fold_no = 1\n",
    "for train, test in kfold.split(X, y):\n",
    "    model = Sequential([\n",
    "        Dense(32, activation='relu', input_shape=(X_train.shape[1],)),\n",
    "        Dense(16, activation='relu'),\n",
    "        Dense(8, activation='relu'),\n",
    "        Dense(1)\n",
    "    ])\n",
    "\n",
    "    model.compile(optimizer='adam', loss='mean_squared_error')\n",
    "    \n",
    "\n",
    "    print(f'Training for fold {fold_no}')\n",
    "    model.fit(X.iloc[train], y.iloc[train], epochs=10, batch_size=32, verbose=0)\n",
    "    \n",
    "\n",
    "    scores = model.evaluate(X.iloc[test], y.iloc[test], verbose=0)\n",
    "    print(f'Score for fold {fold_no}: {model.metrics_names[0]} of {scores};')\n",
    "    mse_scores.append(scores)\n",
    "    \n",
    "    fold_no += 1\n",
    "\n",
    "print(f'\\nMean MSE across all folds: {np.mean(mse_scores)}')"
   ]
  },
  {
   "cell_type": "code",
   "execution_count": null,
   "metadata": {},
   "outputs": [],
   "source": []
  }
 ],
 "metadata": {
  "colab": {
   "provenance": []
  },
  "kernelspec": {
   "display_name": "Python 3 (ipykernel)",
   "language": "python",
   "name": "python3"
  },
  "language_info": {
   "codemirror_mode": {
    "name": "ipython",
    "version": 3
   },
   "file_extension": ".py",
   "mimetype": "text/x-python",
   "name": "python",
   "nbconvert_exporter": "python",
   "pygments_lexer": "ipython3",
   "version": "3.11.5"
  }
 },
 "nbformat": 4,
 "nbformat_minor": 1
}

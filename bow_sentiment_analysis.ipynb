{
 "cells": [
  {
   "cell_type": "code",
   "execution_count": 1,
   "metadata": {},
   "outputs": [],
   "source": [
    "import numpy as np\n",
    "import pandas as pd\n",
    "from collections import defaultdict\n",
    "import string\n",
    "from nltk.corpus import stopwords\n",
    "from nltk.stem.porter import *\n",
    "from sklearn.metrics import mean_squared_error\n",
    "from sklearn import linear_model"
   ]
  },
  {
   "cell_type": "code",
   "execution_count": 2,
   "metadata": {},
   "outputs": [
    {
     "data": {
      "text/html": [
       "<div>\n",
       "<style scoped>\n",
       "    .dataframe tbody tr th:only-of-type {\n",
       "        vertical-align: middle;\n",
       "    }\n",
       "\n",
       "    .dataframe tbody tr th {\n",
       "        vertical-align: top;\n",
       "    }\n",
       "\n",
       "    .dataframe thead th {\n",
       "        text-align: right;\n",
       "    }\n",
       "</style>\n",
       "<table border=\"1\" class=\"dataframe\">\n",
       "  <thead>\n",
       "    <tr style=\"text-align: right;\">\n",
       "      <th></th>\n",
       "      <th>id</th>\n",
       "      <th>log_price</th>\n",
       "      <th>accommodates</th>\n",
       "      <th>bathrooms</th>\n",
       "      <th>description</th>\n",
       "      <th>host_response_rate</th>\n",
       "      <th>name</th>\n",
       "      <th>bedrooms</th>\n",
       "      <th>beds</th>\n",
       "      <th>property_type_Apartment</th>\n",
       "      <th>...</th>\n",
       "      <th>city_Boston</th>\n",
       "      <th>city_Chicago</th>\n",
       "      <th>city_DC</th>\n",
       "      <th>city_LA</th>\n",
       "      <th>city_NYC</th>\n",
       "      <th>city_SF</th>\n",
       "      <th>cleaning_fee_False</th>\n",
       "      <th>cleaning_fee_True</th>\n",
       "      <th>host_has_profile_pic_f</th>\n",
       "      <th>host_has_profile_pic_t</th>\n",
       "    </tr>\n",
       "  </thead>\n",
       "  <tbody>\n",
       "    <tr>\n",
       "      <th>0</th>\n",
       "      <td>6901257</td>\n",
       "      <td>5.010635</td>\n",
       "      <td>3.0</td>\n",
       "      <td>1.0</td>\n",
       "      <td>Beautiful, sunlit brownstone 1-bedroom in the ...</td>\n",
       "      <td>100.0</td>\n",
       "      <td>Beautiful brownstone 1-bedroom</td>\n",
       "      <td>1.0</td>\n",
       "      <td>1.0</td>\n",
       "      <td>1</td>\n",
       "      <td>...</td>\n",
       "      <td>0</td>\n",
       "      <td>0</td>\n",
       "      <td>0</td>\n",
       "      <td>0</td>\n",
       "      <td>1</td>\n",
       "      <td>0</td>\n",
       "      <td>0</td>\n",
       "      <td>1</td>\n",
       "      <td>0</td>\n",
       "      <td>1</td>\n",
       "    </tr>\n",
       "    <tr>\n",
       "      <th>1</th>\n",
       "      <td>6304928</td>\n",
       "      <td>5.129899</td>\n",
       "      <td>7.0</td>\n",
       "      <td>1.0</td>\n",
       "      <td>Enjoy travelling during your stay in Manhattan...</td>\n",
       "      <td>100.0</td>\n",
       "      <td>Superb 3BR Apt Located Near Times Square</td>\n",
       "      <td>3.0</td>\n",
       "      <td>3.0</td>\n",
       "      <td>1</td>\n",
       "      <td>...</td>\n",
       "      <td>0</td>\n",
       "      <td>0</td>\n",
       "      <td>0</td>\n",
       "      <td>0</td>\n",
       "      <td>1</td>\n",
       "      <td>0</td>\n",
       "      <td>0</td>\n",
       "      <td>1</td>\n",
       "      <td>0</td>\n",
       "      <td>1</td>\n",
       "    </tr>\n",
       "    <tr>\n",
       "      <th>2</th>\n",
       "      <td>7919400</td>\n",
       "      <td>4.976734</td>\n",
       "      <td>5.0</td>\n",
       "      <td>1.0</td>\n",
       "      <td>The Oasis comes complete with a full backyard ...</td>\n",
       "      <td>100.0</td>\n",
       "      <td>The Garden Oasis</td>\n",
       "      <td>1.0</td>\n",
       "      <td>3.0</td>\n",
       "      <td>1</td>\n",
       "      <td>...</td>\n",
       "      <td>0</td>\n",
       "      <td>0</td>\n",
       "      <td>0</td>\n",
       "      <td>0</td>\n",
       "      <td>1</td>\n",
       "      <td>0</td>\n",
       "      <td>0</td>\n",
       "      <td>1</td>\n",
       "      <td>0</td>\n",
       "      <td>1</td>\n",
       "    </tr>\n",
       "    <tr>\n",
       "      <th>3</th>\n",
       "      <td>13418779</td>\n",
       "      <td>6.620073</td>\n",
       "      <td>4.0</td>\n",
       "      <td>1.0</td>\n",
       "      <td>This light-filled home-away-from-home is super...</td>\n",
       "      <td>100.0</td>\n",
       "      <td>Beautiful Flat in the Heart of SF!</td>\n",
       "      <td>2.0</td>\n",
       "      <td>2.0</td>\n",
       "      <td>0</td>\n",
       "      <td>...</td>\n",
       "      <td>0</td>\n",
       "      <td>0</td>\n",
       "      <td>0</td>\n",
       "      <td>0</td>\n",
       "      <td>0</td>\n",
       "      <td>1</td>\n",
       "      <td>0</td>\n",
       "      <td>1</td>\n",
       "      <td>0</td>\n",
       "      <td>1</td>\n",
       "    </tr>\n",
       "    <tr>\n",
       "      <th>4</th>\n",
       "      <td>3808709</td>\n",
       "      <td>4.744932</td>\n",
       "      <td>2.0</td>\n",
       "      <td>1.0</td>\n",
       "      <td>Cool, cozy, and comfortable studio located in ...</td>\n",
       "      <td>100.0</td>\n",
       "      <td>Great studio in midtown DC</td>\n",
       "      <td>0.0</td>\n",
       "      <td>1.0</td>\n",
       "      <td>1</td>\n",
       "      <td>...</td>\n",
       "      <td>0</td>\n",
       "      <td>0</td>\n",
       "      <td>1</td>\n",
       "      <td>0</td>\n",
       "      <td>0</td>\n",
       "      <td>0</td>\n",
       "      <td>0</td>\n",
       "      <td>1</td>\n",
       "      <td>0</td>\n",
       "      <td>1</td>\n",
       "    </tr>\n",
       "  </tbody>\n",
       "</table>\n",
       "<p>5 rows × 67 columns</p>\n",
       "</div>"
      ],
      "text/plain": [
       "         id  log_price  accommodates  bathrooms  \\\n",
       "0   6901257   5.010635           3.0        1.0   \n",
       "1   6304928   5.129899           7.0        1.0   \n",
       "2   7919400   4.976734           5.0        1.0   \n",
       "3  13418779   6.620073           4.0        1.0   \n",
       "4   3808709   4.744932           2.0        1.0   \n",
       "\n",
       "                                         description  host_response_rate  \\\n",
       "0  Beautiful, sunlit brownstone 1-bedroom in the ...               100.0   \n",
       "1  Enjoy travelling during your stay in Manhattan...               100.0   \n",
       "2  The Oasis comes complete with a full backyard ...               100.0   \n",
       "3  This light-filled home-away-from-home is super...               100.0   \n",
       "4  Cool, cozy, and comfortable studio located in ...               100.0   \n",
       "\n",
       "                                       name  bedrooms  beds  \\\n",
       "0            Beautiful brownstone 1-bedroom       1.0   1.0   \n",
       "1  Superb 3BR Apt Located Near Times Square       3.0   3.0   \n",
       "2                          The Garden Oasis       1.0   3.0   \n",
       "3        Beautiful Flat in the Heart of SF!       2.0   2.0   \n",
       "4                Great studio in midtown DC       0.0   1.0   \n",
       "\n",
       "   property_type_Apartment  ...  city_Boston  city_Chicago  city_DC  city_LA  \\\n",
       "0                        1  ...            0             0        0        0   \n",
       "1                        1  ...            0             0        0        0   \n",
       "2                        1  ...            0             0        0        0   \n",
       "3                        0  ...            0             0        0        0   \n",
       "4                        1  ...            0             0        1        0   \n",
       "\n",
       "   city_NYC  city_SF  cleaning_fee_False  cleaning_fee_True  \\\n",
       "0         1        0                   0                  1   \n",
       "1         1        0                   0                  1   \n",
       "2         1        0                   0                  1   \n",
       "3         0        1                   0                  1   \n",
       "4         0        0                   0                  1   \n",
       "\n",
       "   host_has_profile_pic_f  host_has_profile_pic_t  \n",
       "0                       0                       1  \n",
       "1                       0                       1  \n",
       "2                       0                       1  \n",
       "3                       0                       1  \n",
       "4                       0                       1  \n",
       "\n",
       "[5 rows x 67 columns]"
      ]
     },
     "execution_count": 2,
     "metadata": {},
     "output_type": "execute_result"
    }
   ],
   "source": [
    "df = pd.read_csv('airbnb_dataset/data.csv')\n",
    "df.head()"
   ]
  },
  {
   "cell_type": "markdown",
   "metadata": {},
   "source": [
    "## Major Preprocessing"
   ]
  },
  {
   "cell_type": "code",
   "execution_count": 3,
   "metadata": {},
   "outputs": [
    {
     "data": {
      "text/plain": [
       "0    Beautiful, sunlit brownstone 1-bedroom in the ...\n",
       "1    Enjoy travelling during your stay in Manhattan...\n",
       "2    The Oasis comes complete with a full backyard ...\n",
       "3    This light-filled home-away-from-home is super...\n",
       "4    Cool, cozy, and comfortable studio located in ...\n",
       "5    Beautiful private room overlooking scenic view...\n",
       "6    Warm and cozy studio with full kitchen and bat...\n",
       "7    Arguably the best location (and safest) in dow...\n",
       "8    Garden Studio with private entrance from the s...\n",
       "9    Quiet community. Close to supermarkets,restaur...\n",
       "Name: description, dtype: object"
      ]
     },
     "execution_count": 3,
     "metadata": {},
     "output_type": "execute_result"
    }
   ],
   "source": [
    "descriptions = df['description']\n",
    "descriptions[:10]"
   ]
  },
  {
   "cell_type": "markdown",
   "metadata": {},
   "source": [
    "### Bag of Words"
   ]
  },
  {
   "cell_type": "code",
   "execution_count": 4,
   "metadata": {},
   "outputs": [],
   "source": [
    "def get_word_count():\n",
    "\n",
    "    word_Count = defaultdict(int)\n",
    "    punctuation = set(string.punctuation)\n",
    "    stop_words = set(stopwords.words('english'))\n",
    "    stemmer = PorterStemmer() # Initialize a PorterStemmer object for stemming words to their root form\n",
    "\n",
    "    for d in descriptions:\n",
    "        # Remove punctuation from the description and convert it to lowercase\n",
    "        r = ''.join([c for c in d.lower() if not c in punctuation])\n",
    "        \n",
    "        # Split the cleaned description into words and filter out stop words\n",
    "        ws = [w for w in r.split() if w not in stop_words]\n",
    "        \n",
    "        for w in ws:\n",
    "            # Stem each word to its root form\n",
    "            w = stemmer.stem(w)\n",
    "            word_Count[w] += 1\n",
    "\n",
    "    # Save the word count to a file\n",
    "    with open('airbnb_dataset/word_count.txt', 'w') as f:\n",
    "        for word, count in word_Count.items():\n",
    "            f.write(f\"{word} {count}\\n\")\n",
    "\n",
    "    return word_Count\n",
    "\n"
   ]
  },
  {
   "cell_type": "code",
   "execution_count": 5,
   "metadata": {},
   "outputs": [
    {
     "data": {
      "text/plain": [
       "76338"
      ]
     },
     "execution_count": 5,
     "metadata": {},
     "output_type": "execute_result"
    }
   ],
   "source": [
    "word_Count = {}\n",
    "# Try to load from a created file\n",
    "try:\n",
    "    with open('airbnb_dataset/word_count.txt', 'r') as f:\n",
    "        for line in f:\n",
    "            word, count = line.split()\n",
    "            word_Count[word] = int(count)\n",
    "except FileNotFoundError:\n",
    "    word_Count = get_word_count()\n",
    "\n",
    "len(word_Count)"
   ]
  },
  {
   "cell_type": "code",
   "execution_count": 6,
   "metadata": {},
   "outputs": [],
   "source": [
    "counts = [(word_Count[w], w) for w in word_Count]\n",
    "counts.sort(reverse=True)\n",
    "words = [x[1] for x in counts[:1500]]"
   ]
  },
  {
   "cell_type": "code",
   "execution_count": 7,
   "metadata": {},
   "outputs": [
    {
     "data": {
      "text/plain": [
       "['room',\n",
       " 'apart',\n",
       " 'bedroom',\n",
       " 'walk',\n",
       " 'locat',\n",
       " 'kitchen',\n",
       " 'park',\n",
       " 'bed',\n",
       " 'live',\n",
       " 'privat',\n",
       " 'restaur',\n",
       " 'bathroom',\n",
       " 'access',\n",
       " '2',\n",
       " 'place',\n",
       " 'block',\n",
       " 'minut',\n",
       " 'one',\n",
       " 'space',\n",
       " 'neighborhood']"
      ]
     },
     "execution_count": 7,
     "metadata": {},
     "output_type": "execute_result"
    }
   ],
   "source": [
    "words[:20]"
   ]
  },
  {
   "cell_type": "markdown",
   "metadata": {},
   "source": [
    "### Sentiment Analysis"
   ]
  },
  {
   "cell_type": "code",
   "execution_count": 8,
   "metadata": {},
   "outputs": [],
   "source": [
    "wordID = dict(zip(words, range(len(words))))\n",
    "wordSet = set(words)"
   ]
  },
  {
   "cell_type": "code",
   "execution_count": 9,
   "metadata": {},
   "outputs": [],
   "source": [
    "punctuation = set(string.punctuation)\n",
    "stop_words = set(stopwords.words('english'))\n",
    "\n",
    "def feature(description):\n",
    "    feat = [0] * len(words)\n",
    "    if description:\n",
    "        r = ''.join([c for c in description.lower() if not c in punctuation])\n",
    "        ws = [w for w in r.split() if w not in stop_words]\n",
    "        for w in ws: \n",
    "            if w in words:\n",
    "                feat[wordID[w]] += 1\n",
    "    feat.append(1)\n",
    "    return feat"
   ]
  },
  {
   "cell_type": "code",
   "execution_count": 10,
   "metadata": {},
   "outputs": [],
   "source": [
    "X = [feature(d) for d in descriptions]\n",
    "y = np.array(df['log_price'])"
   ]
  },
  {
   "cell_type": "code",
   "execution_count": 11,
   "metadata": {},
   "outputs": [],
   "source": [
    "model = linear_model.Ridge(1.0, fit_intercept=False)\n",
    "model.fit(X, y)\n",
    "theta = model.coef_"
   ]
  },
  {
   "cell_type": "code",
   "execution_count": 12,
   "metadata": {},
   "outputs": [
    {
     "data": {
      "text/plain": [
       "0.32581051625192575"
      ]
     },
     "execution_count": 12,
     "metadata": {},
     "output_type": "execute_result"
    }
   ],
   "source": [
    "predictions = model.predict(X)\n",
    "mse = mean_squared_error(predictions, y)\n",
    "mse"
   ]
  },
  {
   "cell_type": "code",
   "execution_count": 13,
   "metadata": {},
   "outputs": [],
   "source": [
    "wordSort = list(zip(theta[:-1], words))\n",
    "wordSort.sort()"
   ]
  },
  {
   "cell_type": "code",
   "execution_count": 14,
   "metadata": {},
   "outputs": [],
   "source": [
    "sentimentDict = dict(zip(words, theta[:-1]))"
   ]
  },
  {
   "cell_type": "code",
   "execution_count": 15,
   "metadata": {},
   "outputs": [
    {
     "data": {
      "text/plain": [
       "0.02092179457041348"
      ]
     },
     "execution_count": 15,
     "metadata": {},
     "output_type": "execute_result"
    }
   ],
   "source": [
    "sentimentDict['great']"
   ]
  },
  {
   "cell_type": "code",
   "execution_count": 16,
   "metadata": {},
   "outputs": [],
   "source": [
    "# Save sentimentDict to a file\n",
    "with open('airbnb_dataset/sentiment_dict.txt', 'w') as f:\n",
    "        for word, score in sentimentDict.items():\n",
    "            f.write(f\"{word} {score}\\n\")"
   ]
  },
  {
   "cell_type": "code",
   "execution_count": null,
   "metadata": {},
   "outputs": [],
   "source": []
  }
 ],
 "metadata": {
  "kernelspec": {
   "display_name": "base",
   "language": "python",
   "name": "python3"
  },
  "language_info": {
   "codemirror_mode": {
    "name": "ipython",
    "version": 3
   },
   "file_extension": ".py",
   "mimetype": "text/x-python",
   "name": "python",
   "nbconvert_exporter": "python",
   "pygments_lexer": "ipython3",
   "version": "3.10.9"
  }
 },
 "nbformat": 4,
 "nbformat_minor": 2
}

{
  "cells": [
    {
      "cell_type": "code",
      "execution_count": 1,
      "metadata": {
        "id": "yzrVg_B6k0fL"
      },
      "outputs": [],
      "source": [
        "import pandas as pd\n",
        "import numpy as np\n",
        "import matplotlib.pyplot as plt\n",
        "from sklearn.model_selection import train_test_split\n",
        "import keras_tuner\n",
        "import keras"
      ]
    },
    {
      "cell_type": "code",
      "execution_count": 2,
      "metadata": {
        "colab": {
          "base_uri": "https://localhost:8080/",
          "height": 244
        },
        "id": "EHiJc-N-k0fM",
        "outputId": "1866cc82-6326-4648-e9e3-d68a953e6718"
      },
      "outputs": [
        {
          "data": {
            "text/html": [
              "<div>\n",
              "<style scoped>\n",
              "    .dataframe tbody tr th:only-of-type {\n",
              "        vertical-align: middle;\n",
              "    }\n",
              "\n",
              "    .dataframe tbody tr th {\n",
              "        vertical-align: top;\n",
              "    }\n",
              "\n",
              "    .dataframe thead th {\n",
              "        text-align: right;\n",
              "    }\n",
              "</style>\n",
              "<table border=\"1\" class=\"dataframe\">\n",
              "  <thead>\n",
              "    <tr style=\"text-align: right;\">\n",
              "      <th></th>\n",
              "      <th>log_price</th>\n",
              "      <th>accommodates</th>\n",
              "      <th>bathrooms</th>\n",
              "      <th>host_response_rate</th>\n",
              "      <th>bedrooms</th>\n",
              "      <th>beds</th>\n",
              "      <th>cleaning_fee_True</th>\n",
              "      <th>host_has_profile_pic_t</th>\n",
              "      <th>host_identity_verified_t</th>\n",
              "      <th>instant_bookable_t</th>\n",
              "      <th>property_type_encoded</th>\n",
              "      <th>room_type_encoded</th>\n",
              "      <th>bed_type_encoded</th>\n",
              "      <th>cancellation_policy_encoded</th>\n",
              "      <th>city_encoded</th>\n",
              "      <th>des_sentiment_analysis</th>\n",
              "      <th>name_sentiment_analysis</th>\n",
              "    </tr>\n",
              "  </thead>\n",
              "  <tbody>\n",
              "    <tr>\n",
              "      <th>0</th>\n",
              "      <td>5.010635</td>\n",
              "      <td>-0.072621</td>\n",
              "      <td>-0.404046</td>\n",
              "      <td>0.296013</td>\n",
              "      <td>-0.312048</td>\n",
              "      <td>-0.566461</td>\n",
              "      <td>True</td>\n",
              "      <td>True</td>\n",
              "      <td>True</td>\n",
              "      <td>False</td>\n",
              "      <td>-0.245313</td>\n",
              "      <td>0.876836</td>\n",
              "      <td>0.168067</td>\n",
              "      <td>1.021281</td>\n",
              "      <td>-0.434017</td>\n",
              "      <td>0.216242</td>\n",
              "      <td>-0.435248</td>\n",
              "    </tr>\n",
              "    <tr>\n",
              "      <th>1</th>\n",
              "      <td>5.129899</td>\n",
              "      <td>1.783653</td>\n",
              "      <td>-0.404046</td>\n",
              "      <td>0.296013</td>\n",
              "      <td>2.034955</td>\n",
              "      <td>1.027816</td>\n",
              "      <td>True</td>\n",
              "      <td>True</td>\n",
              "      <td>False</td>\n",
              "      <td>True</td>\n",
              "      <td>-0.245338</td>\n",
              "      <td>0.876830</td>\n",
              "      <td>0.168044</td>\n",
              "      <td>1.021245</td>\n",
              "      <td>-0.434042</td>\n",
              "      <td>0.837002</td>\n",
              "      <td>-1.788095</td>\n",
              "    </tr>\n",
              "    <tr>\n",
              "      <th>2</th>\n",
              "      <td>4.976734</td>\n",
              "      <td>0.855516</td>\n",
              "      <td>-0.404046</td>\n",
              "      <td>0.296013</td>\n",
              "      <td>-0.312048</td>\n",
              "      <td>1.027816</td>\n",
              "      <td>True</td>\n",
              "      <td>True</td>\n",
              "      <td>True</td>\n",
              "      <td>True</td>\n",
              "      <td>-0.245305</td>\n",
              "      <td>0.876838</td>\n",
              "      <td>0.168074</td>\n",
              "      <td>-0.593873</td>\n",
              "      <td>-0.434009</td>\n",
              "      <td>0.808508</td>\n",
              "      <td>-0.133695</td>\n",
              "    </tr>\n",
              "    <tr>\n",
              "      <th>3</th>\n",
              "      <td>6.620073</td>\n",
              "      <td>0.391448</td>\n",
              "      <td>-0.404046</td>\n",
              "      <td>0.296013</td>\n",
              "      <td>0.861454</td>\n",
              "      <td>0.230678</td>\n",
              "      <td>True</td>\n",
              "      <td>True</td>\n",
              "      <td>True</td>\n",
              "      <td>False</td>\n",
              "      <td>0.157557</td>\n",
              "      <td>0.876747</td>\n",
              "      <td>0.167757</td>\n",
              "      <td>-1.013554</td>\n",
              "      <td>2.675098</td>\n",
              "      <td>0.213627</td>\n",
              "      <td>-0.926212</td>\n",
              "    </tr>\n",
              "    <tr>\n",
              "      <th>4</th>\n",
              "      <td>4.744932</td>\n",
              "      <td>-0.536689</td>\n",
              "      <td>-0.404046</td>\n",
              "      <td>0.296013</td>\n",
              "      <td>-1.485549</td>\n",
              "      <td>-0.566461</td>\n",
              "      <td>True</td>\n",
              "      <td>True</td>\n",
              "      <td>True</td>\n",
              "      <td>True</td>\n",
              "      <td>-0.245255</td>\n",
              "      <td>0.876851</td>\n",
              "      <td>0.168119</td>\n",
              "      <td>-0.593754</td>\n",
              "      <td>1.412368</td>\n",
              "      <td>-0.101872</td>\n",
              "      <td>-0.095776</td>\n",
              "    </tr>\n",
              "  </tbody>\n",
              "</table>\n",
              "</div>"
            ],
            "text/plain": [
              "   log_price  accommodates  bathrooms  host_response_rate  bedrooms      beds  \\\n",
              "0   5.010635     -0.072621  -0.404046            0.296013 -0.312048 -0.566461   \n",
              "1   5.129899      1.783653  -0.404046            0.296013  2.034955  1.027816   \n",
              "2   4.976734      0.855516  -0.404046            0.296013 -0.312048  1.027816   \n",
              "3   6.620073      0.391448  -0.404046            0.296013  0.861454  0.230678   \n",
              "4   4.744932     -0.536689  -0.404046            0.296013 -1.485549 -0.566461   \n",
              "\n",
              "   cleaning_fee_True  host_has_profile_pic_t  host_identity_verified_t  \\\n",
              "0               True                    True                      True   \n",
              "1               True                    True                     False   \n",
              "2               True                    True                      True   \n",
              "3               True                    True                      True   \n",
              "4               True                    True                      True   \n",
              "\n",
              "   instant_bookable_t  property_type_encoded  room_type_encoded  \\\n",
              "0               False              -0.245313           0.876836   \n",
              "1                True              -0.245338           0.876830   \n",
              "2                True              -0.245305           0.876838   \n",
              "3               False               0.157557           0.876747   \n",
              "4                True              -0.245255           0.876851   \n",
              "\n",
              "   bed_type_encoded  cancellation_policy_encoded  city_encoded  \\\n",
              "0          0.168067                     1.021281     -0.434017   \n",
              "1          0.168044                     1.021245     -0.434042   \n",
              "2          0.168074                    -0.593873     -0.434009   \n",
              "3          0.167757                    -1.013554      2.675098   \n",
              "4          0.168119                    -0.593754      1.412368   \n",
              "\n",
              "   des_sentiment_analysis  name_sentiment_analysis  \n",
              "0                0.216242                -0.435248  \n",
              "1                0.837002                -1.788095  \n",
              "2                0.808508                -0.133695  \n",
              "3                0.213627                -0.926212  \n",
              "4               -0.101872                -0.095776  "
            ]
          },
          "execution_count": 2,
          "metadata": {},
          "output_type": "execute_result"
        }
      ],
      "source": [
        "csv_file_path = './airbnb_dataset/milestone3.csv'\n",
        "df = pd.read_csv(csv_file_path)\n",
        "pd.set_option('display.max_columns', None)\n",
        "df.head()"
      ]
    },
    {
      "cell_type": "code",
      "execution_count": 3,
      "metadata": {
        "id": "RRfp1Fy8k0fM"
      },
      "outputs": [],
      "source": [
        "features = [col for col in df.columns if col != 'log_price' and df[col].dtype in ['int64', 'float64']]\n",
        "X = df[features]\n",
        "y = df['log_price']"
      ]
    },
    {
      "cell_type": "code",
      "execution_count": 4,
      "metadata": {
        "id": "ign6_jrik0fN"
      },
      "outputs": [],
      "source": [
        "X_train, X_test, y_train, y_test = train_test_split(X, y, test_size=0.2, random_state=42)"
      ]
    },
    {
      "cell_type": "markdown",
      "metadata": {
        "id": "8HlRQxrok0fN"
      },
      "source": [
        "### Train with NN"
      ]
    },
    {
      "cell_type": "code",
      "execution_count": 5,
      "metadata": {
        "id": "woKUzwKlk0fN"
      },
      "outputs": [],
      "source": [
        "# Uncomment below if tensorflow is not installed already\n",
        "#%pip install tensorflow\n",
        "from sklearn.preprocessing import StandardScaler\n",
        "from tensorflow.keras.models import Sequential\n",
        "from tensorflow.keras.layers import Dense"
      ]
    },
    {
      "cell_type": "code",
      "execution_count": 6,
      "metadata": {
        "id": "sbtm6rYzk0fO"
      },
      "outputs": [],
      "source": [
        "# Build Neural Network\n",
        "nn_model = Sequential([\n",
        "    Dense(32, activation='relu',input_dim=X_train.shape[1]),\n",
        "    Dense(16, activation='relu'),\n",
        "    Dense(8, activation='relu'),\n",
        "    Dense(1)\n",
        "])\n",
        "\n",
        "nn_model.compile(optimizer='adam', loss='mean_squared_error')"
      ]
    },
    {
      "cell_type": "code",
      "execution_count": 7,
      "metadata": {
        "colab": {
          "base_uri": "https://localhost:8080/"
        },
        "id": "iT-i2N6Dk0fO",
        "outputId": "2db7435e-9c6b-4eeb-9475-847148cc82a2"
      },
      "outputs": [
        {
          "name": "stdout",
          "output_type": "stream",
          "text": [
            "Epoch 1/20\n"
          ]
        },
        {
          "name": "stderr",
          "output_type": "stream",
          "text": [
            "2024-03-07 01:51:04.697305: W tensorflow/tsl/platform/profile_utils/cpu_utils.cc:128] Failed to get CPU frequency: 0 Hz\n"
          ]
        },
        {
          "name": "stdout",
          "output_type": "stream",
          "text": [
            "1849/1849 [==============================] - 1s 622us/step - loss: 1.5547 - val_loss: 0.2419\n",
            "Epoch 2/20\n",
            "1849/1849 [==============================] - 1s 546us/step - loss: 0.2180 - val_loss: 0.2138\n",
            "Epoch 3/20\n",
            "1849/1849 [==============================] - 1s 513us/step - loss: 0.2033 - val_loss: 0.2100\n",
            "Epoch 4/20\n",
            "1849/1849 [==============================] - 1s 515us/step - loss: 0.1992 - val_loss: 0.2053\n",
            "Epoch 5/20\n",
            "1849/1849 [==============================] - 1s 560us/step - loss: 0.1971 - val_loss: 0.1994\n",
            "Epoch 6/20\n",
            "1849/1849 [==============================] - 1s 522us/step - loss: 0.1946 - val_loss: 0.1991\n",
            "Epoch 7/20\n",
            "1849/1849 [==============================] - 1s 520us/step - loss: 0.1941 - val_loss: 0.2036\n",
            "Epoch 8/20\n",
            "1849/1849 [==============================] - 1s 528us/step - loss: 0.1935 - val_loss: 0.1964\n",
            "Epoch 9/20\n",
            "1849/1849 [==============================] - 1s 523us/step - loss: 0.1924 - val_loss: 0.1941\n",
            "Epoch 10/20\n",
            "1849/1849 [==============================] - 1s 586us/step - loss: 0.1918 - val_loss: 0.1968\n",
            "Epoch 11/20\n",
            "1849/1849 [==============================] - 1s 539us/step - loss: 0.1915 - val_loss: 0.1959\n",
            "Epoch 12/20\n",
            "1849/1849 [==============================] - 1s 530us/step - loss: 0.1911 - val_loss: 0.1950\n",
            "Epoch 13/20\n",
            "1849/1849 [==============================] - 1s 531us/step - loss: 0.1910 - val_loss: 0.1947\n",
            "Epoch 14/20\n",
            "1849/1849 [==============================] - 1s 526us/step - loss: 0.1904 - val_loss: 0.1933\n",
            "Epoch 15/20\n",
            "1849/1849 [==============================] - 1s 537us/step - loss: 0.1897 - val_loss: 0.2057\n",
            "Epoch 16/20\n",
            "1849/1849 [==============================] - 1s 520us/step - loss: 0.1902 - val_loss: 0.1941\n",
            "Epoch 17/20\n",
            "1849/1849 [==============================] - 1s 522us/step - loss: 0.1895 - val_loss: 0.1937\n",
            "Epoch 18/20\n",
            "1849/1849 [==============================] - 1s 521us/step - loss: 0.1892 - val_loss: 0.1936\n",
            "Epoch 19/20\n",
            "1849/1849 [==============================] - 1s 576us/step - loss: 0.1891 - val_loss: 0.1931\n",
            "Epoch 20/20\n",
            "1849/1849 [==============================] - 1s 615us/step - loss: 0.1888 - val_loss: 0.1933\n"
          ]
        }
      ],
      "source": [
        "# Train the model\n",
        "history = nn_model.fit(X_train, y_train, epochs=20, batch_size=32, validation_data=(X_test, y_test))"
      ]
    },
    {
      "cell_type": "code",
      "execution_count": 8,
      "metadata": {
        "colab": {
          "base_uri": "https://localhost:8080/"
        },
        "id": "QBgeds4uk0fO",
        "outputId": "069e603f-f3b5-491b-a396-3783a2289d8f"
      },
      "outputs": [
        {
          "name": "stdout",
          "output_type": "stream",
          "text": [
            "463/463 [==============================] - 0s 394us/step - loss: 0.1933\n",
            "Mean Squared Error on Test Set: 0.19332894682884216\n"
          ]
        }
      ],
      "source": [
        "# Evaluate the model\n",
        "mse = nn_model.evaluate(X_test, y_test)\n",
        "print(f\"Mean Squared Error on Test Set: {mse}\")"
      ]
    },
    {
      "cell_type": "markdown",
      "metadata": {
        "id": "Es1iL4jRk0fO"
      },
      "source": [
        "### Hyper Tuning"
      ]
    },
    {
      "cell_type": "code",
      "execution_count": 47,
      "metadata": {
        "id": "hEu-Vtpxk0fO"
      },
      "outputs": [],
      "source": [
        "metrics = [keras.metrics.RootMeanSquaredError(name=\"root_mean_squared_error\", dtype=None), keras.metrics.MeanSquaredError(name=\"mean_squared_error\", dtype=None)]\n",
        "def build_hp_model(hp):\n",
        "    model = Sequential()\n",
        "    for i in range(hp.Int('num_layers', 2, 4)):\n",
        "        model.add(Dense(units=hp.Int('units_' + str(i), min_value=32, max_value=128, step=32),\n",
        "                        activation='relu'))\n",
        "    model.add(Dense(1))\n",
        "    learning_rate = hp.Float('learning_rate', min_value=1e-4, max_value=1e-2, sampling='LOG')\n",
        "    model.compile(optimizer=keras.optimizers.Adam(learning_rate=learning_rate),\n",
        "                  loss='mean_squared_error',\n",
        "                  metrics=metrics)#['mean_squared_error'])\n",
        "    return model"
      ]
    },
    {
      "cell_type": "code",
      "execution_count": 48,
      "metadata": {
        "id": "Zppg1sxbk0fP"
      },
      "outputs": [],
      "source": [
        "early_stopping = keras.callbacks.EarlyStopping(\n",
        "    monitor='val_loss',\n",
        "    min_delta=0.001,\n",
        "    patience=5,\n",
        "    mode='auto',\n",
        "    baseline=None,\n",
        "    restore_best_weights=False,\n",
        "    start_from_epoch=0\n",
        ")\n",
        "\n",
        "model_checkpoint = keras.callbacks.ModelCheckpoint(\n",
        "    filepath='checkpoints',\n",
        "    monitor='val_loss',\n",
        "    save_best_only=True,\n",
        "    save_weights_only= False,\n",
        "    mode='auto'\n",
        ")"
      ]
    },
    {
      "cell_type": "code",
      "execution_count": 49,
      "metadata": {
        "id": "ZkGg1wUFk0fP"
      },
      "outputs": [],
      "source": [
        "tuner = keras_tuner.RandomSearch(\n",
        "    hypermodel=build_hp_model,\n",
        "    objective='val_loss',\n",
        "    max_trials=5,\n",
        "    seed=10,\n",
        "    executions_per_trial=3,\n",
        "    overwrite=True,\n",
        "    tune_new_entries=True,\n",
        "    allow_new_entries=True,\n",
        "    max_consecutive_failed_trials=1\n",
        ")"
      ]
    },
    {
      "cell_type": "code",
      "execution_count": 50,
      "metadata": {
        "colab": {
          "base_uri": "https://localhost:8080/"
        },
        "id": "Vzz-7xCXk0fP",
        "outputId": "143383cc-bf72-4e2f-90e3-03584b0b0bab"
      },
      "outputs": [
        {
          "name": "stdout",
          "output_type": "stream",
          "text": [
            "Trial 5 Complete [00h 00m 48s]\n",
            "val_loss: 0.18892546991507211\n",
            "\n",
            "Best val_loss So Far: 0.186910018324852\n",
            "Total elapsed time: 00h 04m 32s\n"
          ]
        }
      ],
      "source": [
        "# Start searching\n",
        "tuner_search = tuner.search(X_train, y_train, epochs=15, callbacks=[early_stopping, model_checkpoint], validation_split=0.2)"
      ]
    },
    {
      "cell_type": "code",
      "execution_count": 13,
      "metadata": {
        "colab": {
          "base_uri": "https://localhost:8080/"
        },
        "id": "7uFJlmTak0fP",
        "outputId": "2f310369-a957-420a-f5d7-d9b9b64d6a9c"
      },
      "outputs": [],
      "source": [
        "# View summary of searching\n",
        "# tuner.results_summary()"
      ]
    },
    {
      "cell_type": "code",
      "execution_count": 51,
      "metadata": {
        "colab": {
          "base_uri": "https://localhost:8080/"
        },
        "id": "mzo1VEn8k0fP",
        "outputId": "61e53941-7d0d-4f33-afe2-b8eafe6fcafc"
      },
      "outputs": [
        {
          "name": "stdout",
          "output_type": "stream",
          "text": [
            "Best hyperparameters found were:  {'num_layers': 4, 'units_0': 64, 'units_1': 96, 'learning_rate': 0.0019815016575264635, 'units_2': 32, 'units_3': 96}\n"
          ]
        }
      ],
      "source": [
        "# View best hyperparameters\n",
        "best_hyperparameters = tuner.get_best_hyperparameters(num_trials=1)[0]\n",
        "print(\"Best hyperparameters found were: \", best_hyperparameters.values)"
      ]
    },
    {
      "cell_type": "code",
      "execution_count": 52,
      "metadata": {},
      "outputs": [
        {
          "name": "stdout",
          "output_type": "stream",
          "text": [
            "463/463 [==============================] - 0s 351us/step - loss: 0.1928 - root_mean_squared_error: 0.4366 - mean_squared_error: 0.1906\n",
            "Mean Squared Error on Test Set: [0.192816823720932, 0.4365949332714081, 0.19061513245105743]\n"
          ]
        }
      ],
      "source": [
        "best_model = tuner.get_best_models(num_models=1)[0]\n",
        "mse = best_model.evaluate(X_test, y_test)\n",
        "print(f\"Mean Squared Error on Test Set: {mse}\")"
      ]
    },
    {
      "cell_type": "code",
      "execution_count": 16,
      "metadata": {
        "id": "FAojhccJk0fP"
      },
      "outputs": [],
      "source": [
        "# View best model\n",
        "# best_model = tuner.get_best_models()[0]\n",
        "# best_model.summary()\n"
      ]
    },
    {
      "cell_type": "code",
      "execution_count": 17,
      "metadata": {
        "id": "_Gwx-kbkk0fP"
      },
      "outputs": [],
      "source": [
        "# Evaluate the best model\n",
        "# loss, acc = best_model.evaluate(X_test, y_test)\n",
        "# print('ACC: ', acc)\n",
        "# print('LOSS: ', loss)"
      ]
    }
  ],
  "metadata": {
    "colab": {
      "provenance": []
    },
    "kernelspec": {
      "display_name": "Python 3",
      "language": "python",
      "name": "python3"
    },
    "language_info": {
      "codemirror_mode": {
        "name": "ipython",
        "version": 3
      },
      "file_extension": ".py",
      "mimetype": "text/x-python",
      "name": "python",
      "nbconvert_exporter": "python",
      "pygments_lexer": "ipython3",
      "version": "3.11.5"
    }
  },
  "nbformat": 4,
  "nbformat_minor": 0
}
